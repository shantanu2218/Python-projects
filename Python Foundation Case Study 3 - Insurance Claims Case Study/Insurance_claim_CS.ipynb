{
 "cells": [
  {
   "cell_type": "markdown",
   "id": "c6492e15",
   "metadata": {},
   "source": [
    "#### Packages Required"
   ]
  },
  {
   "cell_type": "code",
   "execution_count": 92,
   "id": "559a7933",
   "metadata": {},
   "outputs": [],
   "source": [
    "import numpy as np\n",
    "import pandas as pd\n",
    "import matplotlib.pyplot as plt\n",
    "import seaborn as sns\n",
    "%matplotlib inline\n",
    "\n",
    "import scipy.stats as stats\n",
    "import warnings\n",
    "\n",
    "warnings.filterwarnings('ignore')"
   ]
  },
  {
   "cell_type": "markdown",
   "id": "25a944f3",
   "metadata": {},
   "source": [
    "#### Loading data"
   ]
  },
  {
   "cell_type": "code",
   "execution_count": 93,
   "id": "e2783fac",
   "metadata": {},
   "outputs": [],
   "source": [
    "claims=pd.read_csv('C:/Users/sharm/Downloads/PYTHON_Case_study/Python Foundation Case Study 3 - Insurance Claims Case Study/claims.csv')\n",
    "cust_demo=pd.read_csv('C:/Users/sharm/Downloads/PYTHON_Case_study/Python Foundation Case Study 3 - Insurance Claims Case Study/cust_demographics.csv')"
   ]
  },
  {
   "cell_type": "markdown",
   "id": "983c95e8",
   "metadata": {},
   "source": [
    "#### Meta data  inspection"
   ]
  },
  {
   "cell_type": "code",
   "execution_count": 94,
   "id": "670fed13",
   "metadata": {},
   "outputs": [
    {
     "data": {
      "text/html": [
       "<div>\n",
       "<style scoped>\n",
       "    .dataframe tbody tr th:only-of-type {\n",
       "        vertical-align: middle;\n",
       "    }\n",
       "\n",
       "    .dataframe tbody tr th {\n",
       "        vertical-align: top;\n",
       "    }\n",
       "\n",
       "    .dataframe thead th {\n",
       "        text-align: right;\n",
       "    }\n",
       "</style>\n",
       "<table border=\"1\" class=\"dataframe\">\n",
       "  <thead>\n",
       "    <tr style=\"text-align: right;\">\n",
       "      <th></th>\n",
       "      <th>claim_id</th>\n",
       "      <th>customer_id</th>\n",
       "      <th>incident_cause</th>\n",
       "      <th>claim_date</th>\n",
       "      <th>claim_area</th>\n",
       "      <th>police_report</th>\n",
       "      <th>claim_type</th>\n",
       "      <th>claim_amount</th>\n",
       "      <th>total_policy_claims</th>\n",
       "      <th>fraudulent</th>\n",
       "    </tr>\n",
       "  </thead>\n",
       "  <tbody>\n",
       "    <tr>\n",
       "      <th>0</th>\n",
       "      <td>54004764</td>\n",
       "      <td>21868593</td>\n",
       "      <td>Driver error</td>\n",
       "      <td>11/27/2017</td>\n",
       "      <td>Auto</td>\n",
       "      <td>No</td>\n",
       "      <td>Material only</td>\n",
       "      <td>$2980</td>\n",
       "      <td>1.0</td>\n",
       "      <td>No</td>\n",
       "    </tr>\n",
       "    <tr>\n",
       "      <th>1</th>\n",
       "      <td>33985796</td>\n",
       "      <td>75740424</td>\n",
       "      <td>Crime</td>\n",
       "      <td>10/03/2018</td>\n",
       "      <td>Home</td>\n",
       "      <td>Unknown</td>\n",
       "      <td>Material only</td>\n",
       "      <td>$2980</td>\n",
       "      <td>3.0</td>\n",
       "      <td>No</td>\n",
       "    </tr>\n",
       "    <tr>\n",
       "      <th>2</th>\n",
       "      <td>53522022</td>\n",
       "      <td>30308357</td>\n",
       "      <td>Other driver error</td>\n",
       "      <td>02/02/2018</td>\n",
       "      <td>Auto</td>\n",
       "      <td>No</td>\n",
       "      <td>Material only</td>\n",
       "      <td>$3369.5</td>\n",
       "      <td>1.0</td>\n",
       "      <td>Yes</td>\n",
       "    </tr>\n",
       "    <tr>\n",
       "      <th>3</th>\n",
       "      <td>13015401</td>\n",
       "      <td>47830476</td>\n",
       "      <td>Natural causes</td>\n",
       "      <td>06/17/2018</td>\n",
       "      <td>Auto</td>\n",
       "      <td>No</td>\n",
       "      <td>Material only</td>\n",
       "      <td>$1680</td>\n",
       "      <td>1.0</td>\n",
       "      <td>No</td>\n",
       "    </tr>\n",
       "    <tr>\n",
       "      <th>4</th>\n",
       "      <td>22890252</td>\n",
       "      <td>19269962</td>\n",
       "      <td>Crime</td>\n",
       "      <td>01/13/2018</td>\n",
       "      <td>Auto</td>\n",
       "      <td>No</td>\n",
       "      <td>Material only</td>\n",
       "      <td>$2680</td>\n",
       "      <td>1.0</td>\n",
       "      <td>No</td>\n",
       "    </tr>\n",
       "  </tbody>\n",
       "</table>\n",
       "</div>"
      ],
      "text/plain": [
       "   claim_id  customer_id      incident_cause  claim_date claim_area  \\\n",
       "0  54004764     21868593        Driver error  11/27/2017       Auto   \n",
       "1  33985796     75740424               Crime  10/03/2018       Home   \n",
       "2  53522022     30308357  Other driver error  02/02/2018       Auto   \n",
       "3  13015401     47830476      Natural causes  06/17/2018       Auto   \n",
       "4  22890252     19269962               Crime  01/13/2018       Auto   \n",
       "\n",
       "  police_report     claim_type claim_amount  total_policy_claims fraudulent  \n",
       "0            No  Material only        $2980                  1.0         No  \n",
       "1       Unknown  Material only        $2980                  3.0         No  \n",
       "2            No  Material only      $3369.5                  1.0        Yes  \n",
       "3            No  Material only        $1680                  1.0         No  \n",
       "4            No  Material only        $2680                  1.0         No  "
      ]
     },
     "execution_count": 94,
     "metadata": {},
     "output_type": "execute_result"
    }
   ],
   "source": [
    "claims.head()"
   ]
  },
  {
   "cell_type": "code",
   "execution_count": 95,
   "id": "bc25e6a3",
   "metadata": {},
   "outputs": [
    {
     "name": "stdout",
     "output_type": "stream",
     "text": [
      "<class 'pandas.core.frame.DataFrame'>\n",
      "RangeIndex: 1100 entries, 0 to 1099\n",
      "Data columns (total 10 columns):\n",
      " #   Column               Non-Null Count  Dtype  \n",
      "---  ------               --------------  -----  \n",
      " 0   claim_id             1100 non-null   int64  \n",
      " 1   customer_id          1100 non-null   int64  \n",
      " 2   incident_cause       1100 non-null   object \n",
      " 3   claim_date           1100 non-null   object \n",
      " 4   claim_area           1100 non-null   object \n",
      " 5   police_report        1100 non-null   object \n",
      " 6   claim_type           1100 non-null   object \n",
      " 7   claim_amount         1035 non-null   object \n",
      " 8   total_policy_claims  1090 non-null   float64\n",
      " 9   fraudulent           1100 non-null   object \n",
      "dtypes: float64(1), int64(2), object(7)\n",
      "memory usage: 86.1+ KB\n"
     ]
    }
   ],
   "source": [
    "claims.info()"
   ]
  },
  {
   "cell_type": "code",
   "execution_count": 96,
   "id": "2b16f961",
   "metadata": {},
   "outputs": [
    {
     "data": {
      "text/html": [
       "<div>\n",
       "<style scoped>\n",
       "    .dataframe tbody tr th:only-of-type {\n",
       "        vertical-align: middle;\n",
       "    }\n",
       "\n",
       "    .dataframe tbody tr th {\n",
       "        vertical-align: top;\n",
       "    }\n",
       "\n",
       "    .dataframe thead th {\n",
       "        text-align: right;\n",
       "    }\n",
       "</style>\n",
       "<table border=\"1\" class=\"dataframe\">\n",
       "  <thead>\n",
       "    <tr style=\"text-align: right;\">\n",
       "      <th></th>\n",
       "      <th>CUST_ID</th>\n",
       "      <th>gender</th>\n",
       "      <th>DateOfBirth</th>\n",
       "      <th>State</th>\n",
       "      <th>Contact</th>\n",
       "      <th>Segment</th>\n",
       "    </tr>\n",
       "  </thead>\n",
       "  <tbody>\n",
       "    <tr>\n",
       "      <th>0</th>\n",
       "      <td>21868593</td>\n",
       "      <td>Female</td>\n",
       "      <td>12-Jan-79</td>\n",
       "      <td>VT</td>\n",
       "      <td>789-916-8172</td>\n",
       "      <td>Platinum</td>\n",
       "    </tr>\n",
       "    <tr>\n",
       "      <th>1</th>\n",
       "      <td>75740424</td>\n",
       "      <td>Female</td>\n",
       "      <td>13-Jan-70</td>\n",
       "      <td>ME</td>\n",
       "      <td>265-543-1264</td>\n",
       "      <td>Silver</td>\n",
       "    </tr>\n",
       "    <tr>\n",
       "      <th>2</th>\n",
       "      <td>30308357</td>\n",
       "      <td>Female</td>\n",
       "      <td>11-Mar-84</td>\n",
       "      <td>TN</td>\n",
       "      <td>798-631-4758</td>\n",
       "      <td>Silver</td>\n",
       "    </tr>\n",
       "    <tr>\n",
       "      <th>3</th>\n",
       "      <td>47830476</td>\n",
       "      <td>Female</td>\n",
       "      <td>01-May-86</td>\n",
       "      <td>MA</td>\n",
       "      <td>413-187-7945</td>\n",
       "      <td>Silver</td>\n",
       "    </tr>\n",
       "    <tr>\n",
       "      <th>4</th>\n",
       "      <td>19269962</td>\n",
       "      <td>Male</td>\n",
       "      <td>13-May-77</td>\n",
       "      <td>NV</td>\n",
       "      <td>956-871-8691</td>\n",
       "      <td>Gold</td>\n",
       "    </tr>\n",
       "  </tbody>\n",
       "</table>\n",
       "</div>"
      ],
      "text/plain": [
       "    CUST_ID  gender DateOfBirth State       Contact   Segment\n",
       "0  21868593  Female   12-Jan-79    VT  789-916-8172  Platinum\n",
       "1  75740424  Female   13-Jan-70    ME  265-543-1264    Silver\n",
       "2  30308357  Female   11-Mar-84    TN  798-631-4758    Silver\n",
       "3  47830476  Female   01-May-86    MA  413-187-7945    Silver\n",
       "4  19269962    Male   13-May-77    NV  956-871-8691      Gold"
      ]
     },
     "execution_count": 96,
     "metadata": {},
     "output_type": "execute_result"
    }
   ],
   "source": [
    "cust_demo.head()"
   ]
  },
  {
   "cell_type": "code",
   "execution_count": 97,
   "id": "387782e8",
   "metadata": {},
   "outputs": [
    {
     "name": "stdout",
     "output_type": "stream",
     "text": [
      "<class 'pandas.core.frame.DataFrame'>\n",
      "RangeIndex: 1085 entries, 0 to 1084\n",
      "Data columns (total 6 columns):\n",
      " #   Column       Non-Null Count  Dtype \n",
      "---  ------       --------------  ----- \n",
      " 0   CUST_ID      1085 non-null   int64 \n",
      " 1   gender       1085 non-null   object\n",
      " 2   DateOfBirth  1085 non-null   object\n",
      " 3   State        1085 non-null   object\n",
      " 4   Contact      1085 non-null   object\n",
      " 5   Segment      1085 non-null   object\n",
      "dtypes: int64(1), object(5)\n",
      "memory usage: 51.0+ KB\n"
     ]
    }
   ],
   "source": [
    "cust_demo.info()"
   ]
  },
  {
   "cell_type": "markdown",
   "id": "da4d3a86",
   "metadata": {},
   "source": [
    "##### 1. Import claims_data.csv and cust_data.csv which is provided to you andcombine the two datasets appropriately to create a 360-degree view of the data. Use the same for the subsequent questions.\n"
   ]
  },
  {
   "cell_type": "code",
   "execution_count": 98,
   "id": "e23976ac",
   "metadata": {},
   "outputs": [],
   "source": [
    "# Joining data\n",
    "df=pd.merge(left=claims,right=cust_demo,left_on='customer_id',right_on='CUST_ID',how = 'inner')"
   ]
  },
  {
   "cell_type": "code",
   "execution_count": 99,
   "id": "f5e07c16",
   "metadata": {},
   "outputs": [
    {
     "data": {
      "text/html": [
       "<div>\n",
       "<style scoped>\n",
       "    .dataframe tbody tr th:only-of-type {\n",
       "        vertical-align: middle;\n",
       "    }\n",
       "\n",
       "    .dataframe tbody tr th {\n",
       "        vertical-align: top;\n",
       "    }\n",
       "\n",
       "    .dataframe thead th {\n",
       "        text-align: right;\n",
       "    }\n",
       "</style>\n",
       "<table border=\"1\" class=\"dataframe\">\n",
       "  <thead>\n",
       "    <tr style=\"text-align: right;\">\n",
       "      <th></th>\n",
       "      <th>claim_id</th>\n",
       "      <th>customer_id</th>\n",
       "      <th>incident_cause</th>\n",
       "      <th>claim_date</th>\n",
       "      <th>claim_area</th>\n",
       "      <th>police_report</th>\n",
       "      <th>claim_type</th>\n",
       "      <th>claim_amount</th>\n",
       "      <th>total_policy_claims</th>\n",
       "      <th>fraudulent</th>\n",
       "      <th>CUST_ID</th>\n",
       "      <th>gender</th>\n",
       "      <th>DateOfBirth</th>\n",
       "      <th>State</th>\n",
       "      <th>Contact</th>\n",
       "      <th>Segment</th>\n",
       "    </tr>\n",
       "  </thead>\n",
       "  <tbody>\n",
       "    <tr>\n",
       "      <th>0</th>\n",
       "      <td>54004764</td>\n",
       "      <td>21868593</td>\n",
       "      <td>Driver error</td>\n",
       "      <td>11/27/2017</td>\n",
       "      <td>Auto</td>\n",
       "      <td>No</td>\n",
       "      <td>Material only</td>\n",
       "      <td>$2980</td>\n",
       "      <td>1.0</td>\n",
       "      <td>No</td>\n",
       "      <td>21868593</td>\n",
       "      <td>Female</td>\n",
       "      <td>12-Jan-79</td>\n",
       "      <td>VT</td>\n",
       "      <td>789-916-8172</td>\n",
       "      <td>Platinum</td>\n",
       "    </tr>\n",
       "    <tr>\n",
       "      <th>1</th>\n",
       "      <td>33985796</td>\n",
       "      <td>75740424</td>\n",
       "      <td>Crime</td>\n",
       "      <td>10/03/2018</td>\n",
       "      <td>Home</td>\n",
       "      <td>Unknown</td>\n",
       "      <td>Material only</td>\n",
       "      <td>$2980</td>\n",
       "      <td>3.0</td>\n",
       "      <td>No</td>\n",
       "      <td>75740424</td>\n",
       "      <td>Female</td>\n",
       "      <td>13-Jan-70</td>\n",
       "      <td>ME</td>\n",
       "      <td>265-543-1264</td>\n",
       "      <td>Silver</td>\n",
       "    </tr>\n",
       "  </tbody>\n",
       "</table>\n",
       "</div>"
      ],
      "text/plain": [
       "   claim_id  customer_id incident_cause  claim_date claim_area police_report  \\\n",
       "0  54004764     21868593   Driver error  11/27/2017       Auto            No   \n",
       "1  33985796     75740424          Crime  10/03/2018       Home       Unknown   \n",
       "\n",
       "      claim_type claim_amount  total_policy_claims fraudulent   CUST_ID  \\\n",
       "0  Material only        $2980                  1.0         No  21868593   \n",
       "1  Material only        $2980                  3.0         No  75740424   \n",
       "\n",
       "   gender DateOfBirth State       Contact   Segment  \n",
       "0  Female   12-Jan-79    VT  789-916-8172  Platinum  \n",
       "1  Female   13-Jan-70    ME  265-543-1264    Silver  "
      ]
     },
     "execution_count": 99,
     "metadata": {},
     "output_type": "execute_result"
    }
   ],
   "source": [
    "df.head(2)"
   ]
  },
  {
   "cell_type": "markdown",
   "id": "06aa92c3",
   "metadata": {},
   "source": [
    "#### 2. Perform a data audit for the datatypes and find out if there are any mismatch within the current datatypes of the columns and their business significance. "
   ]
  },
  {
   "cell_type": "code",
   "execution_count": 100,
   "id": "acb0cb9a",
   "metadata": {},
   "outputs": [
    {
     "name": "stdout",
     "output_type": "stream",
     "text": [
      "<class 'pandas.core.frame.DataFrame'>\n",
      "Int64Index: 1085 entries, 0 to 1084\n",
      "Data columns (total 16 columns):\n",
      " #   Column               Non-Null Count  Dtype  \n",
      "---  ------               --------------  -----  \n",
      " 0   claim_id             1085 non-null   int64  \n",
      " 1   customer_id          1085 non-null   int64  \n",
      " 2   incident_cause       1085 non-null   object \n",
      " 3   claim_date           1085 non-null   object \n",
      " 4   claim_area           1085 non-null   object \n",
      " 5   police_report        1085 non-null   object \n",
      " 6   claim_type           1085 non-null   object \n",
      " 7   claim_amount         1020 non-null   object \n",
      " 8   total_policy_claims  1075 non-null   float64\n",
      " 9   fraudulent           1085 non-null   object \n",
      " 10  CUST_ID              1085 non-null   int64  \n",
      " 11  gender               1085 non-null   object \n",
      " 12  DateOfBirth          1085 non-null   object \n",
      " 13  State                1085 non-null   object \n",
      " 14  Contact              1085 non-null   object \n",
      " 15  Segment              1085 non-null   object \n",
      "dtypes: float64(1), int64(3), object(12)\n",
      "memory usage: 144.1+ KB\n"
     ]
    }
   ],
   "source": [
    "df.info()"
   ]
  },
  {
   "cell_type": "code",
   "execution_count": 101,
   "id": "9578dd28",
   "metadata": {},
   "outputs": [],
   "source": [
    "# Data type conversion to object type:\n",
    "df.claim_id=df.claim_id.astype(object)\n",
    "df.customer_id=df.customer_id.astype(object)"
   ]
  },
  {
   "cell_type": "code",
   "execution_count": 102,
   "id": "dfe6feca",
   "metadata": {},
   "outputs": [],
   "source": [
    "# Handling Dates\n",
    "df.claim_date=pd.to_datetime(df.claim_date,format='%m/%d/%Y')"
   ]
  },
  {
   "cell_type": "code",
   "execution_count": 103,
   "id": "cfbfbe00",
   "metadata": {},
   "outputs": [],
   "source": [
    "df.DateOfBirth=pd.to_datetime(df.DateOfBirth,format='%d-%b-%y')"
   ]
  },
  {
   "cell_type": "markdown",
   "id": "04898eda",
   "metadata": {},
   "source": [
    "##### 3. Convert the column claim_amount to numeric. Use the appropriate modules/attributes to remove the  $ sign."
   ]
  },
  {
   "cell_type": "code",
   "execution_count": 104,
   "id": "9a5af262",
   "metadata": {},
   "outputs": [],
   "source": [
    "# Removing $ symbol and then typecasting it to numeric:\n",
    "df.claim_amount=pd.to_numeric(df.claim_amount.str.replace('$',''))"
   ]
  },
  {
   "cell_type": "markdown",
   "id": "2c8df433",
   "metadata": {},
   "source": [
    "##### 4. Of all the injury claims, some of them have gone unreported with the police. Create an alert flag (1,0) for all such claims.\n"
   ]
  },
  {
   "cell_type": "code",
   "execution_count": 105,
   "id": "897975f2",
   "metadata": {},
   "outputs": [],
   "source": [
    "df['Police_alert']=pd.Series(np.where((df.claim_type.str.contains('Injury',case=False))&(df.police_report.isin(['No','Unknown'])),'1','0' ))"
   ]
  },
  {
   "cell_type": "markdown",
   "id": "cf9bcfdb",
   "metadata": {},
   "source": [
    "##### 5. One customer can claim for insurance more than once and in each claim,multiple categories of claims can be involved. However, customer ID should remain unique. Retain the most recent observation and delete any duplicated records in the data based on the customer ID column."
   ]
  },
  {
   "cell_type": "code",
   "execution_count": 89,
   "id": "fb6e37ce",
   "metadata": {
    "scrolled": true
   },
   "outputs": [],
   "source": [
    "df=df.sort_values(by='claim_date')[~df.duplicated(subset='customer_id',keep='last')]"
   ]
  },
  {
   "cell_type": "markdown",
   "id": "263f67d8",
   "metadata": {},
   "source": [
    "##### 6. Check for missing values and impute the missing values with an appropriate value. (mean for continuous and mode for categorical)"
   ]
  },
  {
   "cell_type": "code",
   "execution_count": 85,
   "id": "195f5bc1",
   "metadata": {},
   "outputs": [
    {
     "name": "stdout",
     "output_type": "stream",
     "text": [
      "<class 'pandas.core.frame.DataFrame'>\n",
      "Int64Index: 1078 entries, 739 to 1055\n",
      "Data columns (total 17 columns):\n",
      " #   Column               Non-Null Count  Dtype         \n",
      "---  ------               --------------  -----         \n",
      " 0   claim_id             1078 non-null   object        \n",
      " 1   customer_id          1078 non-null   object        \n",
      " 2   incident_cause       1078 non-null   object        \n",
      " 3   claim_date           1078 non-null   datetime64[ns]\n",
      " 4   claim_area           1078 non-null   object        \n",
      " 5   police_report        1078 non-null   object        \n",
      " 6   claim_type           1078 non-null   object        \n",
      " 7   claim_amount         1013 non-null   float64       \n",
      " 8   total_policy_claims  1068 non-null   float64       \n",
      " 9   fraudulent           1078 non-null   object        \n",
      " 10  CUST_ID              1078 non-null   int64         \n",
      " 11  gender               1078 non-null   object        \n",
      " 12  DateOfBirth          1078 non-null   datetime64[ns]\n",
      " 13  State                1078 non-null   object        \n",
      " 14  Contact              1078 non-null   object        \n",
      " 15  Segment              1078 non-null   object        \n",
      " 16  Police_alert         1078 non-null   object        \n",
      "dtypes: datetime64[ns](2), float64(2), int64(1), object(12)\n",
      "memory usage: 151.6+ KB\n"
     ]
    }
   ],
   "source": [
    "df.info()"
   ]
  },
  {
   "cell_type": "code",
   "execution_count": 86,
   "id": "5bc792ed",
   "metadata": {},
   "outputs": [],
   "source": [
    "# Mean value imputation for claim_amount:\n",
    "df.claim_amount.fillna(df.claim_amount.mean(),inplace=True) "
   ]
  },
  {
   "cell_type": "code",
   "execution_count": 87,
   "id": "20c44fea",
   "metadata": {},
   "outputs": [],
   "source": [
    "# Mode value imputation for total_policy_claims  :"
   ]
  },
  {
   "cell_type": "code",
   "execution_count": 88,
   "id": "2e2bcbbd",
   "metadata": {},
   "outputs": [],
   "source": [
    "df.total_policy_claims.fillna(df.total_policy_claims.mode()[0],inplace=True)"
   ]
  },
  {
   "cell_type": "markdown",
   "id": "01de9880",
   "metadata": {},
   "source": [
    "#### 7. Calculate the age of customers in years. Based on the age, categorize the customers according to the below criteria\n",
    "        Children < 18\n",
    "        Youth 18-30\n",
    "        Adult 30-60\n",
    "        Senior > 60"
   ]
  },
  {
   "cell_type": "code",
   "execution_count": 89,
   "id": "f7a71151",
   "metadata": {},
   "outputs": [
    {
     "data": {
      "text/html": [
       "<div>\n",
       "<style scoped>\n",
       "    .dataframe tbody tr th:only-of-type {\n",
       "        vertical-align: middle;\n",
       "    }\n",
       "\n",
       "    .dataframe tbody tr th {\n",
       "        vertical-align: top;\n",
       "    }\n",
       "\n",
       "    .dataframe thead th {\n",
       "        text-align: right;\n",
       "    }\n",
       "</style>\n",
       "<table border=\"1\" class=\"dataframe\">\n",
       "  <thead>\n",
       "    <tr style=\"text-align: right;\">\n",
       "      <th></th>\n",
       "      <th>claim_id</th>\n",
       "      <th>customer_id</th>\n",
       "      <th>incident_cause</th>\n",
       "      <th>claim_date</th>\n",
       "      <th>claim_area</th>\n",
       "      <th>police_report</th>\n",
       "      <th>claim_type</th>\n",
       "      <th>claim_amount</th>\n",
       "      <th>total_policy_claims</th>\n",
       "      <th>fraudulent</th>\n",
       "      <th>CUST_ID</th>\n",
       "      <th>gender</th>\n",
       "      <th>State</th>\n",
       "      <th>Contact</th>\n",
       "      <th>Segment</th>\n",
       "      <th>Police_alert</th>\n",
       "      <th>DOB</th>\n",
       "    </tr>\n",
       "  </thead>\n",
       "  <tbody>\n",
       "    <tr>\n",
       "      <th>739</th>\n",
       "      <td>58878919</td>\n",
       "      <td>29323970</td>\n",
       "      <td>Driver error</td>\n",
       "      <td>2017-01-01</td>\n",
       "      <td>Auto</td>\n",
       "      <td>Unknown</td>\n",
       "      <td>Material only</td>\n",
       "      <td>1840.0</td>\n",
       "      <td>1.0</td>\n",
       "      <td>Yes</td>\n",
       "      <td>29323970</td>\n",
       "      <td>Male</td>\n",
       "      <td>NE</td>\n",
       "      <td>783-653-9163</td>\n",
       "      <td>Gold</td>\n",
       "      <td>0</td>\n",
       "      <td>1996-09-22</td>\n",
       "    </tr>\n",
       "    <tr>\n",
       "      <th>181</th>\n",
       "      <td>90591192</td>\n",
       "      <td>61745840</td>\n",
       "      <td>Other driver error</td>\n",
       "      <td>2017-01-01</td>\n",
       "      <td>Home</td>\n",
       "      <td>No</td>\n",
       "      <td>Material and injury</td>\n",
       "      <td>30930.0</td>\n",
       "      <td>1.0</td>\n",
       "      <td>No</td>\n",
       "      <td>61745840</td>\n",
       "      <td>Female</td>\n",
       "      <td>MA</td>\n",
       "      <td>612-684-5472</td>\n",
       "      <td>Platinum</td>\n",
       "      <td>1</td>\n",
       "      <td>1979-02-06</td>\n",
       "    </tr>\n",
       "    <tr>\n",
       "      <th>312</th>\n",
       "      <td>9476314</td>\n",
       "      <td>65176092</td>\n",
       "      <td>Other causes</td>\n",
       "      <td>2017-01-01</td>\n",
       "      <td>Auto</td>\n",
       "      <td>No</td>\n",
       "      <td>Material and injury</td>\n",
       "      <td>37290.0</td>\n",
       "      <td>3.0</td>\n",
       "      <td>No</td>\n",
       "      <td>65176092</td>\n",
       "      <td>Male</td>\n",
       "      <td>NC</td>\n",
       "      <td>651-379-2486</td>\n",
       "      <td>Silver</td>\n",
       "      <td>1</td>\n",
       "      <td>1982-06-11</td>\n",
       "    </tr>\n",
       "    <tr>\n",
       "      <th>905</th>\n",
       "      <td>42280334</td>\n",
       "      <td>42664554</td>\n",
       "      <td>Other causes</td>\n",
       "      <td>2017-01-01</td>\n",
       "      <td>Auto</td>\n",
       "      <td>No</td>\n",
       "      <td>Injury only</td>\n",
       "      <td>27670.0</td>\n",
       "      <td>1.0</td>\n",
       "      <td>No</td>\n",
       "      <td>42664554</td>\n",
       "      <td>Female</td>\n",
       "      <td>TN</td>\n",
       "      <td>396-973-2531</td>\n",
       "      <td>Gold</td>\n",
       "      <td>1</td>\n",
       "      <td>1969-04-23</td>\n",
       "    </tr>\n",
       "    <tr>\n",
       "      <th>120</th>\n",
       "      <td>39131766</td>\n",
       "      <td>39587790</td>\n",
       "      <td>Other causes</td>\n",
       "      <td>2017-01-01</td>\n",
       "      <td>Auto</td>\n",
       "      <td>No</td>\n",
       "      <td>Material only</td>\n",
       "      <td>2967.0</td>\n",
       "      <td>1.0</td>\n",
       "      <td>Yes</td>\n",
       "      <td>39587790</td>\n",
       "      <td>Male</td>\n",
       "      <td>LA</td>\n",
       "      <td>615-154-3516</td>\n",
       "      <td>Gold</td>\n",
       "      <td>0</td>\n",
       "      <td>1991-11-06</td>\n",
       "    </tr>\n",
       "    <tr>\n",
       "      <th>...</th>\n",
       "      <td>...</td>\n",
       "      <td>...</td>\n",
       "      <td>...</td>\n",
       "      <td>...</td>\n",
       "      <td>...</td>\n",
       "      <td>...</td>\n",
       "      <td>...</td>\n",
       "      <td>...</td>\n",
       "      <td>...</td>\n",
       "      <td>...</td>\n",
       "      <td>...</td>\n",
       "      <td>...</td>\n",
       "      <td>...</td>\n",
       "      <td>...</td>\n",
       "      <td>...</td>\n",
       "      <td>...</td>\n",
       "      <td>...</td>\n",
       "    </tr>\n",
       "    <tr>\n",
       "      <th>354</th>\n",
       "      <td>98795403</td>\n",
       "      <td>38011078</td>\n",
       "      <td>Crime</td>\n",
       "      <td>2018-10-30</td>\n",
       "      <td>Auto</td>\n",
       "      <td>Unknown</td>\n",
       "      <td>Material only</td>\n",
       "      <td>1940.0</td>\n",
       "      <td>1.0</td>\n",
       "      <td>No</td>\n",
       "      <td>38011078</td>\n",
       "      <td>Female</td>\n",
       "      <td>NE</td>\n",
       "      <td>271-123-1475</td>\n",
       "      <td>Gold</td>\n",
       "      <td>0</td>\n",
       "      <td>1965-03-17</td>\n",
       "    </tr>\n",
       "    <tr>\n",
       "      <th>286</th>\n",
       "      <td>99775483</td>\n",
       "      <td>93915431</td>\n",
       "      <td>Other causes</td>\n",
       "      <td>2018-10-30</td>\n",
       "      <td>Auto</td>\n",
       "      <td>No</td>\n",
       "      <td>Material and injury</td>\n",
       "      <td>42124.5</td>\n",
       "      <td>1.0</td>\n",
       "      <td>Yes</td>\n",
       "      <td>93915431</td>\n",
       "      <td>Male</td>\n",
       "      <td>ME</td>\n",
       "      <td>134-785-1687</td>\n",
       "      <td>Gold</td>\n",
       "      <td>1</td>\n",
       "      <td>1969-12-25</td>\n",
       "    </tr>\n",
       "    <tr>\n",
       "      <th>226</th>\n",
       "      <td>49735712</td>\n",
       "      <td>17682060</td>\n",
       "      <td>Crime</td>\n",
       "      <td>2018-10-30</td>\n",
       "      <td>Home</td>\n",
       "      <td>Unknown</td>\n",
       "      <td>Material and injury</td>\n",
       "      <td>17020.0</td>\n",
       "      <td>1.0</td>\n",
       "      <td>No</td>\n",
       "      <td>17682060</td>\n",
       "      <td>Female</td>\n",
       "      <td>NV</td>\n",
       "      <td>186-195-3465</td>\n",
       "      <td>Gold</td>\n",
       "      <td>1</td>\n",
       "      <td>1995-03-21</td>\n",
       "    </tr>\n",
       "    <tr>\n",
       "      <th>1077</th>\n",
       "      <td>91386759</td>\n",
       "      <td>65208809</td>\n",
       "      <td>Natural causes</td>\n",
       "      <td>2018-10-30</td>\n",
       "      <td>Auto</td>\n",
       "      <td>No</td>\n",
       "      <td>Material only</td>\n",
       "      <td>2290.0</td>\n",
       "      <td>1.0</td>\n",
       "      <td>No</td>\n",
       "      <td>65208809</td>\n",
       "      <td>Male</td>\n",
       "      <td>VA</td>\n",
       "      <td>286-128-6132</td>\n",
       "      <td>Platinum</td>\n",
       "      <td>0</td>\n",
       "      <td>1968-04-22</td>\n",
       "    </tr>\n",
       "    <tr>\n",
       "      <th>1055</th>\n",
       "      <td>43042986</td>\n",
       "      <td>58451506</td>\n",
       "      <td>Natural causes</td>\n",
       "      <td>2018-10-30</td>\n",
       "      <td>Auto</td>\n",
       "      <td>No</td>\n",
       "      <td>Material only</td>\n",
       "      <td>2420.0</td>\n",
       "      <td>1.0</td>\n",
       "      <td>No</td>\n",
       "      <td>58451506</td>\n",
       "      <td>Male</td>\n",
       "      <td>FL</td>\n",
       "      <td>673-574-7823</td>\n",
       "      <td>Gold</td>\n",
       "      <td>0</td>\n",
       "      <td>1995-08-11</td>\n",
       "    </tr>\n",
       "  </tbody>\n",
       "</table>\n",
       "<p>1078 rows × 17 columns</p>\n",
       "</div>"
      ],
      "text/plain": [
       "      claim_id customer_id      incident_cause claim_date claim_area  \\\n",
       "739   58878919    29323970        Driver error 2017-01-01       Auto   \n",
       "181   90591192    61745840  Other driver error 2017-01-01       Home   \n",
       "312    9476314    65176092        Other causes 2017-01-01       Auto   \n",
       "905   42280334    42664554        Other causes 2017-01-01       Auto   \n",
       "120   39131766    39587790        Other causes 2017-01-01       Auto   \n",
       "...        ...         ...                 ...        ...        ...   \n",
       "354   98795403    38011078               Crime 2018-10-30       Auto   \n",
       "286   99775483    93915431        Other causes 2018-10-30       Auto   \n",
       "226   49735712    17682060               Crime 2018-10-30       Home   \n",
       "1077  91386759    65208809      Natural causes 2018-10-30       Auto   \n",
       "1055  43042986    58451506      Natural causes 2018-10-30       Auto   \n",
       "\n",
       "     police_report           claim_type  claim_amount  total_policy_claims  \\\n",
       "739        Unknown        Material only        1840.0                  1.0   \n",
       "181             No  Material and injury       30930.0                  1.0   \n",
       "312             No  Material and injury       37290.0                  3.0   \n",
       "905             No          Injury only       27670.0                  1.0   \n",
       "120             No        Material only        2967.0                  1.0   \n",
       "...            ...                  ...           ...                  ...   \n",
       "354        Unknown        Material only        1940.0                  1.0   \n",
       "286             No  Material and injury       42124.5                  1.0   \n",
       "226        Unknown  Material and injury       17020.0                  1.0   \n",
       "1077            No        Material only        2290.0                  1.0   \n",
       "1055            No        Material only        2420.0                  1.0   \n",
       "\n",
       "     fraudulent   CUST_ID  gender State       Contact   Segment Police_alert  \\\n",
       "739         Yes  29323970    Male    NE  783-653-9163      Gold            0   \n",
       "181          No  61745840  Female    MA  612-684-5472  Platinum            1   \n",
       "312          No  65176092    Male    NC  651-379-2486    Silver            1   \n",
       "905          No  42664554  Female    TN  396-973-2531      Gold            1   \n",
       "120         Yes  39587790    Male    LA  615-154-3516      Gold            0   \n",
       "...         ...       ...     ...   ...           ...       ...          ...   \n",
       "354          No  38011078  Female    NE  271-123-1475      Gold            0   \n",
       "286         Yes  93915431    Male    ME  134-785-1687      Gold            1   \n",
       "226          No  17682060  Female    NV  186-195-3465      Gold            1   \n",
       "1077         No  65208809    Male    VA  286-128-6132  Platinum            0   \n",
       "1055         No  58451506    Male    FL  673-574-7823      Gold            0   \n",
       "\n",
       "            DOB  \n",
       "739  1996-09-22  \n",
       "181  1979-02-06  \n",
       "312  1982-06-11  \n",
       "905  1969-04-23  \n",
       "120  1991-11-06  \n",
       "...         ...  \n",
       "354  1965-03-17  \n",
       "286  1969-12-25  \n",
       "226  1995-03-21  \n",
       "1077 1968-04-22  \n",
       "1055 1995-08-11  \n",
       "\n",
       "[1078 rows x 17 columns]"
      ]
     },
     "execution_count": 89,
     "metadata": {},
     "output_type": "execute_result"
    }
   ],
   "source": [
    "# getting correct Date of birth\n",
    "df['DOB'] = pd.Series(np.where(df.DateOfBirth.dt.year>2000,df.DateOfBirth+pd.DateOffset(years=-100),df.DateOfBirth))\n",
    "#removing incorrect dob col\n",
    "df.drop(columns='DateOfBirth')"
   ]
  },
  {
   "cell_type": "code",
   "execution_count": 90,
   "id": "77b42c09",
   "metadata": {},
   "outputs": [],
   "source": [
    "# For getting the age\n",
    "df['Age']=round((df.claim_date - df.DOB).dt.days/365.25,2)"
   ]
  },
  {
   "cell_type": "code",
   "execution_count": 91,
   "id": "fddd0c63",
   "metadata": {},
   "outputs": [],
   "source": [
    "df['Age_cat']=pd.cut(df.Age,[0,18,30,60,100],labels=['Children','Youth','Adult','Senior'])"
   ]
  },
  {
   "cell_type": "markdown",
   "id": "12abf8bc",
   "metadata": {},
   "source": [
    "#### 8. What is the average amount claimed by the customers from various segments?"
   ]
  },
  {
   "cell_type": "code",
   "execution_count": 92,
   "id": "12432dae",
   "metadata": {},
   "outputs": [
    {
     "data": {
      "text/html": [
       "<div>\n",
       "<style scoped>\n",
       "    .dataframe tbody tr th:only-of-type {\n",
       "        vertical-align: middle;\n",
       "    }\n",
       "\n",
       "    .dataframe tbody tr th {\n",
       "        vertical-align: top;\n",
       "    }\n",
       "\n",
       "    .dataframe thead th {\n",
       "        text-align: right;\n",
       "    }\n",
       "</style>\n",
       "<table border=\"1\" class=\"dataframe\">\n",
       "  <thead>\n",
       "    <tr style=\"text-align: right;\">\n",
       "      <th></th>\n",
       "      <th>claim_amount</th>\n",
       "    </tr>\n",
       "    <tr>\n",
       "      <th>Segment</th>\n",
       "      <th></th>\n",
       "    </tr>\n",
       "  </thead>\n",
       "  <tbody>\n",
       "    <tr>\n",
       "      <th>Gold</th>\n",
       "      <td>12846.39</td>\n",
       "    </tr>\n",
       "    <tr>\n",
       "      <th>Platinum</th>\n",
       "      <td>12371.64</td>\n",
       "    </tr>\n",
       "    <tr>\n",
       "      <th>Silver</th>\n",
       "      <td>12267.15</td>\n",
       "    </tr>\n",
       "  </tbody>\n",
       "</table>\n",
       "</div>"
      ],
      "text/plain": [
       "          claim_amount\n",
       "Segment               \n",
       "Gold          12846.39\n",
       "Platinum      12371.64\n",
       "Silver        12267.15"
      ]
     },
     "execution_count": 92,
     "metadata": {},
     "output_type": "execute_result"
    }
   ],
   "source": [
    "round(df.pivot_table(index='Segment',values='claim_amount',aggfunc=np.mean),2)"
   ]
  },
  {
   "cell_type": "markdown",
   "id": "6eefc576",
   "metadata": {},
   "source": [
    "#### 9. What is the total claim amount based on incident cause for all the claims that have been done at least 20 days prior to 1st of October, 2018."
   ]
  },
  {
   "cell_type": "code",
   "execution_count": 93,
   "id": "a1c10df1",
   "metadata": {},
   "outputs": [],
   "source": [
    "end_date=pd.to_datetime('2018-10-01',format='%Y-%m-%d')"
   ]
  },
  {
   "cell_type": "code",
   "execution_count": 94,
   "id": "e70972d1",
   "metadata": {},
   "outputs": [],
   "source": [
    "q9 = df[(df.claim_date<end_date)&(df.claim_date>=end_date+pd.DateOffset(days=-20))]"
   ]
  },
  {
   "cell_type": "code",
   "execution_count": 95,
   "id": "ab75c561",
   "metadata": {},
   "outputs": [
    {
     "data": {
      "text/plain": [
       "incident_cause\n",
       "Crime                  2280.000000\n",
       "Driver error           7315.744817\n",
       "Natural causes         2104.500000\n",
       "Other causes          17661.249260\n",
       "Other driver error     6799.928571\n",
       "Name: claim_amount, dtype: float64"
      ]
     },
     "execution_count": 95,
     "metadata": {},
     "output_type": "execute_result"
    }
   ],
   "source": [
    "q9.groupby('incident_cause')['claim_amount'].agg(np.mean)"
   ]
  },
  {
   "cell_type": "markdown",
   "id": "2729e3ea",
   "metadata": {},
   "source": [
    "#### 10. How many adults from TX, DE and AK claimed insurance for driver related issues and causes?"
   ]
  },
  {
   "cell_type": "code",
   "execution_count": 96,
   "id": "7a9ee7c8",
   "metadata": {},
   "outputs": [],
   "source": [
    "q10=df[(df.State.isin(['TX','DE','AK']))&(df.Age_cat=='Adult') &(df.incident_cause.str.contains('driver',case=False)) ]"
   ]
  },
  {
   "cell_type": "code",
   "execution_count": 97,
   "id": "e30146a2",
   "metadata": {},
   "outputs": [
    {
     "data": {
      "text/html": [
       "<div>\n",
       "<style scoped>\n",
       "    .dataframe tbody tr th:only-of-type {\n",
       "        vertical-align: middle;\n",
       "    }\n",
       "\n",
       "    .dataframe tbody tr th {\n",
       "        vertical-align: top;\n",
       "    }\n",
       "\n",
       "    .dataframe thead th {\n",
       "        text-align: right;\n",
       "    }\n",
       "</style>\n",
       "<table border=\"1\" class=\"dataframe\">\n",
       "  <thead>\n",
       "    <tr style=\"text-align: right;\">\n",
       "      <th>Age_cat</th>\n",
       "      <th>Adult</th>\n",
       "    </tr>\n",
       "    <tr>\n",
       "      <th>State</th>\n",
       "      <th></th>\n",
       "    </tr>\n",
       "  </thead>\n",
       "  <tbody>\n",
       "    <tr>\n",
       "      <th>AK</th>\n",
       "      <td>5</td>\n",
       "    </tr>\n",
       "    <tr>\n",
       "      <th>DE</th>\n",
       "      <td>11</td>\n",
       "    </tr>\n",
       "    <tr>\n",
       "      <th>TX</th>\n",
       "      <td>7</td>\n",
       "    </tr>\n",
       "  </tbody>\n",
       "</table>\n",
       "</div>"
      ],
      "text/plain": [
       "Age_cat  Adult\n",
       "State         \n",
       "AK           5\n",
       "DE          11\n",
       "TX           7"
      ]
     },
     "execution_count": 97,
     "metadata": {},
     "output_type": "execute_result"
    }
   ],
   "source": [
    "pd.crosstab(q10.State,q10.Age_cat)"
   ]
  },
  {
   "cell_type": "markdown",
   "id": "62e4e05b",
   "metadata": {},
   "source": [
    "#### 11. Draw a pie chart between the aggregated value of claim amount based on gender and segment. Represent the claim amount as a percentage on the pie chart."
   ]
  },
  {
   "cell_type": "code",
   "execution_count": 98,
   "id": "bc22c199",
   "metadata": {},
   "outputs": [
    {
     "data": {
      "image/png": "[encoded data removed]",
      "text/plain": [
       "<Figure size 432x288 with 1 Axes>"
      ]
     },
     "metadata": {},
     "output_type": "display_data"
    }
   ],
   "source": [
    "\n",
    "df.groupby(['gender','Segment'])['claim_amount'].sum().plot(kind='pie',\n",
    "                                                            autopct='%.1f%%',\n",
    "                                                            ylabel='',\n",
    "                                                            radius=1.5)\n",
    "plt.show()"
   ]
  },
  {
   "cell_type": "code",
   "execution_count": 99,
   "id": "5365fe96",
   "metadata": {},
   "outputs": [
    {
     "data": {
      "text/plain": [
       "gender  Segment \n",
       "Female  Gold        2.110042e+06\n",
       "        Platinum    2.369720e+06\n",
       "        Silver      1.897302e+06\n",
       "Male    Gold        2.655967e+06\n",
       "        Platinum    2.096443e+06\n",
       "        Silver      2.347131e+06\n",
       "Name: claim_amount, dtype: float64"
      ]
     },
     "execution_count": 99,
     "metadata": {},
     "output_type": "execute_result"
    }
   ],
   "source": [
    "df.groupby(['gender','Segment'])['claim_amount'].sum()"
   ]
  },
  {
   "cell_type": "code",
   "execution_count": 100,
   "id": "ae6d1e27",
   "metadata": {},
   "outputs": [
    {
     "data": {
      "image/png": "[encoded data removed]",
      "text/plain": [
       "<Figure size 720x504 with 2 Axes>"
      ]
     },
     "metadata": {},
     "output_type": "display_data"
    }
   ],
   "source": [
    "pie = pd.pivot_table(df, index =['Segment'],columns ='gender',values ='claim_amount')\n",
    "\n",
    "pie.plot(kind='pie', \n",
    "            labels=['Platinum','Silver','Gold'],\n",
    "            colors=['tomato', 'lightgreen', 'steelblue'],\n",
    "            autopct='%.1f%%', # to get percentage and round off appropriately\n",
    "            fontsize=10,\n",
    "            subplots=True,\n",
    "            figsize=(10,7),ylabel='',title=['Female','Male'],\n",
    "            legend=0)\n",
    "\n",
    "plt.show()"
   ]
  },
  {
   "cell_type": "markdown",
   "id": "cf628bfe",
   "metadata": {},
   "source": [
    "#### 12. Among males and females, which gender had claimed the most for any type of driver related issues? E.g. This metric can be compared using a bar chart"
   ]
  },
  {
   "cell_type": "code",
   "execution_count": 101,
   "id": "22f60458",
   "metadata": {},
   "outputs": [
    {
     "data": {
      "image/png": "[encoded data removed]",
      "text/plain": [
       "<Figure size 432x288 with 1 Axes>"
      ]
     },
     "metadata": {
      "needs_background": "light"
     },
     "output_type": "display_data"
    }
   ],
   "source": [
    "df[df.incident_cause.str.contains('driver',case=False)].groupby(['incident_cause','gender'])['customer_id'].agg('count').plot(kind='bar')\n",
    "plt.show()"
   ]
  },
  {
   "cell_type": "markdown",
   "id": "ead3dd97",
   "metadata": {},
   "source": [
    "#### 13. Which age group had the maximum fraudulent policy claims? Visualize it on a bar chart."
   ]
  },
  {
   "cell_type": "code",
   "execution_count": 102,
   "id": "dae420d6",
   "metadata": {},
   "outputs": [
    {
     "data": {
      "text/html": [
       "<div>\n",
       "<style scoped>\n",
       "    .dataframe tbody tr th:only-of-type {\n",
       "        vertical-align: middle;\n",
       "    }\n",
       "\n",
       "    .dataframe tbody tr th {\n",
       "        vertical-align: top;\n",
       "    }\n",
       "\n",
       "    .dataframe thead th {\n",
       "        text-align: right;\n",
       "    }\n",
       "</style>\n",
       "<table border=\"1\" class=\"dataframe\">\n",
       "  <thead>\n",
       "    <tr style=\"text-align: right;\">\n",
       "      <th>fraudulent</th>\n",
       "      <th>No</th>\n",
       "      <th>Yes</th>\n",
       "    </tr>\n",
       "    <tr>\n",
       "      <th>Age_cat</th>\n",
       "      <th></th>\n",
       "      <th></th>\n",
       "    </tr>\n",
       "  </thead>\n",
       "  <tbody>\n",
       "    <tr>\n",
       "      <th>Children</th>\n",
       "      <td>6</td>\n",
       "      <td>2</td>\n",
       "    </tr>\n",
       "    <tr>\n",
       "      <th>Youth</th>\n",
       "      <td>245</td>\n",
       "      <td>80</td>\n",
       "    </tr>\n",
       "    <tr>\n",
       "      <th>Adult</th>\n",
       "      <td>576</td>\n",
       "      <td>162</td>\n",
       "    </tr>\n",
       "  </tbody>\n",
       "</table>\n",
       "</div>"
      ],
      "text/plain": [
       "fraudulent   No  Yes\n",
       "Age_cat             \n",
       "Children      6    2\n",
       "Youth       245   80\n",
       "Adult       576  162"
      ]
     },
     "execution_count": 102,
     "metadata": {},
     "output_type": "execute_result"
    }
   ],
   "source": [
    "pd.crosstab(df.Age_cat,df.fraudulent)"
   ]
  },
  {
   "cell_type": "code",
   "execution_count": 103,
   "id": "eb7c9908",
   "metadata": {},
   "outputs": [
    {
     "data": {
      "image/png": "[encoded data removed]",
      "text/plain": [
       "<Figure size 720x360 with 1 Axes>"
      ]
     },
     "metadata": {
      "needs_background": "light"
     },
     "output_type": "display_data"
    }
   ],
   "source": [
    "pd.crosstab(df.Age_cat,df.fraudulent).plot(kind='bar',figsize=(10,5))\n",
    "plt.show()"
   ]
  },
  {
   "cell_type": "markdown",
   "id": "555cf96d",
   "metadata": {},
   "source": [
    "#### 14. Visualize the monthly trend of the total amount that has been claimed  by the customers. Ensure that on the “month” axis, the month is in a chronological order not alphabetical order."
   ]
  },
  {
   "cell_type": "code",
   "execution_count": 104,
   "id": "d5ffb59c",
   "metadata": {},
   "outputs": [
    {
     "data": {
      "image/png": "[encoded data removed]",
      "text/plain": [
       "<Figure size 720x576 with 1 Axes>"
      ]
     },
     "metadata": {
      "needs_background": "light"
     },
     "output_type": "display_data"
    }
   ],
   "source": [
    "(df.groupby(df.claim_date.dt.strftime('%m(%B)'))['claim_amount'].sum()).sort_index().plot(kind='barh',figsize=(10,8),ylabel='claim_amount')\n",
    "plt.show()"
   ]
  },
  {
   "cell_type": "markdown",
   "id": "51a001f3",
   "metadata": {},
   "source": [
    "#### 15. What is the average claim amount for gender and age categories and suitably represent the above using a facetted bar chart, one facet that represents fraudulent claims and the other for non-fraudulent claims."
   ]
  },
  {
   "cell_type": "code",
   "execution_count": 105,
   "id": "a62b4cc3",
   "metadata": {},
   "outputs": [],
   "source": [
    "# using panda's plot\n",
    "qwe=df.pivot_table(index=['Age_cat','gender'],columns='fraudulent',values='claim_amount',aggfunc='mean')"
   ]
  },
  {
   "cell_type": "code",
   "execution_count": 106,
   "id": "38f1f84f",
   "metadata": {},
   "outputs": [
    {
     "data": {
      "image/png": "[encoded data removed]",
      "text/plain": [
       "<Figure size 720x360 with 2 Axes>"
      ]
     },
     "metadata": {
      "needs_background": "light"
     },
     "output_type": "display_data"
    }
   ],
   "source": [
    "qwe.plot(kind='bar',subplots=True,layout=(1,2),figsize=(10,5),title=['Not_Fraudulent','Fraudulent'],legend=None)\n",
    "plt.show()"
   ]
  },
  {
   "cell_type": "code",
   "execution_count": 107,
   "id": "94388687",
   "metadata": {},
   "outputs": [],
   "source": [
    "# using seaborn\n",
    "asd=df.groupby(['Age_cat','gender','fraudulent'])['claim_amount'].sum().reset_index()"
   ]
  },
  {
   "cell_type": "code",
   "execution_count": 108,
   "id": "47daa9ed",
   "metadata": {},
   "outputs": [
    {
     "data": {
      "image/png": "[encoded data removed]",
      "text/plain": [
       "<Figure size 792.125x360 with 2 Axes>"
      ]
     },
     "metadata": {
      "needs_background": "light"
     },
     "output_type": "display_data"
    }
   ],
   "source": [
    "sns.catplot(x='Age_cat',y='claim_amount',hue='gender',data=asd,col='fraudulent',ci=None,kind='bar',palette=['tomato','steelblue'])\n",
    "plt.show()"
   ]
  },
  {
   "cell_type": "markdown",
   "id": "944e74ba",
   "metadata": {},
   "source": [
    "### Hypothesis Testing"
   ]
  },
  {
   "cell_type": "markdown",
   "id": "9c55fd7b",
   "metadata": {},
   "source": [
    "#### 16 Is there any similarity in the amount claimed by males and females?"
   ]
  },
  {
   "cell_type": "code",
   "execution_count": 109,
   "id": "e9fd04b0",
   "metadata": {},
   "outputs": [
    {
     "name": "stdout",
     "output_type": "stream",
     "text": [
      "mean value for Male customers: 12884.83 \n",
      " mean value for Female customers: 12100.69\n",
      "mean value for Male customers: 184032586.19 \n",
      " mean value for Female customers: 172874276.92\n"
     ]
    },
    {
     "data": {
      "text/plain": [
       "Ttest_indResult(statistic=0.9630529881732622, pvalue=0.3357373087404262)"
      ]
     },
     "execution_count": 109,
     "metadata": {},
     "output_type": "execute_result"
    }
   ],
   "source": [
    "## filter the data for male and female customers:\n",
    "\n",
    "male=df.loc[df.gender=='Male','claim_amount']\n",
    "female=df.loc[df.gender=='Female','claim_amount']\n",
    "\n",
    "# display the mean value for male and female customers:\n",
    "print( 'mean value for Male customers:',round(male.mean(),2) ,'\\n',\n",
    "      'mean value for Female customers:',round(female.mean(),2))\n",
    "\n",
    "# display the variance value for male and female customers:\n",
    "print( 'mean value for Male customers:',round(male.var(),2) ,'\\n',\n",
    "      'mean value for Female customers:',round(female.var(),2))\n",
    "\n",
    "# NOTE: Going with equal variance ttest,not a huge difference  in the two variance.\n",
    "\n",
    "# # H0: means are same    or  u1 = u2\n",
    "# Ha: means are not same  or  u1 <> u2\n",
    "# CI = 95%, p = 0.05\n",
    "\n",
    "# perform the test\n",
    "stats.ttest_ind(a=male,b=female)\n",
    "\n",
    "# based on p values, p value of the test is high compared to cutoff p at 95%; \n",
    "# thus we will fail to reject the H0\n",
    "\n",
    "# business conclusion\n",
    "# There exist  similarity in the amount claimed by  male and female customers as they are from the same population."
   ]
  },
  {
   "cell_type": "markdown",
   "id": "a09d4161",
   "metadata": {},
   "source": [
    "#### 17. Is there any relationship between age category and segment?"
   ]
  },
  {
   "cell_type": "code",
   "execution_count": 110,
   "id": "bb7c9527",
   "metadata": {},
   "outputs": [
    {
     "data": {
      "text/plain": [
       "(1.2478676261973547,\n",
       " 0.8701563875606337,\n",
       " 4,\n",
       " array([[  2.75630252, 111.97478992, 254.26890756],\n",
       "        [  2.68160598, 108.94024276, 247.37815126],\n",
       "        [  2.5620915 , 104.08496732, 236.35294118]]))"
      ]
     },
     "execution_count": 110,
     "metadata": {},
     "output_type": "execute_result"
    }
   ],
   "source": [
    "# H0 - No relationship betwwen age category and segment.\n",
    "# Ha - Relationship exists betwwen age category and segment.\n",
    "\n",
    "# CI - 95%, p - 0.05\n",
    "\n",
    "# creating an obs freq table \n",
    "obs_fre_tbl=pd.crosstab(df.Segment,df.Age_cat)\n",
    "\n",
    "# perform the test\n",
    "stats.chi2_contingency(observed=obs_fre_tbl)\n",
    "\n",
    "# based on p values, p value of the test is high compared to cutoff p at 95%; \n",
    "# thus we will  fail to reject the H0\n",
    "\n",
    "# business conclusion:\n",
    "# There exist no relationship between segment and age category  and this claim is made at the CI of 95%"
   ]
  },
  {
   "cell_type": "markdown",
   "id": "c8047bbc",
   "metadata": {},
   "source": [
    "#### 18. The current year has shown a significant rise in claim amounts as compared to 2016-17 fiscal average which was $10,000."
   ]
  },
  {
   "cell_type": "code",
   "execution_count": 111,
   "id": "a1bf36cf",
   "metadata": {},
   "outputs": [
    {
     "name": "stdout",
     "output_type": "stream",
     "text": [
      "mean of the current year claim amount: 12501.489634748285 \n",
      "\n",
      "Ttest_1sampResult(statistic=6.146231134929638, pvalue=1.1156022878717526e-09)\n"
     ]
    }
   ],
   "source": [
    "# mean of the current year claim amount:\n",
    "print( 'mean of the current year claim amount:',df.claim_amount.mean() , '\\n' )\n",
    "\n",
    "# H0 : u <= 10,000 \n",
    "# Ha : u > 10,000\n",
    "\n",
    "# CI = 95%, p = 0.05\n",
    "\n",
    "# perform the test\n",
    "print( stats.ttest_1samp(df.claim_amount,popmean=10000) )\n",
    "\n",
    "# based on p values, p value of the test is small compared to cutoff p at 95%; \n",
    "# thus we will reject the H0\n",
    "\n",
    "# business conclusion\n",
    "# Current year average claim amounts has increased from the last year value of 10,000.\n",
    "# Above claim is made at the CI of 95%."
   ]
  },
  {
   "cell_type": "markdown",
   "id": "de15b14a",
   "metadata": {},
   "source": [
    "#### 19. Is there any difference between age groups and insurance claims?"
   ]
  },
  {
   "cell_type": "code",
   "execution_count": 112,
   "id": "d1e327d7",
   "metadata": {},
   "outputs": [
    {
     "data": {
      "text/plain": [
       "Adult       738\n",
       "Youth       325\n",
       "Children      8\n",
       "Senior        0\n",
       "Name: Age_cat, dtype: int64"
      ]
     },
     "execution_count": 112,
     "metadata": {},
     "output_type": "execute_result"
    }
   ],
   "source": [
    "df.Age_cat.value_counts()"
   ]
  },
  {
   "cell_type": "code",
   "execution_count": 113,
   "id": "2dbf65fb",
   "metadata": {},
   "outputs": [
    {
     "data": {
      "text/plain": [
       "3"
      ]
     },
     "execution_count": 113,
     "metadata": {},
     "output_type": "execute_result"
    }
   ],
   "source": [
    "df.Age_cat.nunique()"
   ]
  },
  {
   "cell_type": "code",
   "execution_count": 119,
   "id": "db9f8312",
   "metadata": {},
   "outputs": [
    {
     "name": "stdout",
     "output_type": "stream",
     "text": [
      "Avg claims  for adult customers: 1.58 \n",
      " Avg claims for youth customers: 1.58 \n",
      " Avg claims for children customers: 1.88\n"
     ]
    },
    {
     "data": {
      "text/plain": [
       "F_onewayResult(statistic=0.2648627217555567, pvalue=0.7673616642166381)"
      ]
     },
     "execution_count": 119,
     "metadata": {},
     "output_type": "execute_result"
    }
   ],
   "source": [
    "## filter the data for different age category:\n",
    "\n",
    "adult = df.loc[df.Age_cat=='Adult','total_policy_claims']\n",
    "youth = df.loc[df.Age_cat=='Youth','total_policy_claims']\n",
    "children = df.loc[df.Age_cat=='Children','total_policy_claims']\n",
    "\n",
    "# display the mean value for adult,youth and children age category:\n",
    "print( 'Avg claims  for adult customers:',round(adult.mean(),2) ,'\\n',\n",
    "       'Avg claims for youth customers:',round(youth.mean(),2),'\\n',\n",
    "       'Avg claims for children customers:',round(children.mean(),2))\n",
    "\n",
    "\n",
    "\n",
    "# # H0: means are same    or  u1 = u2 =u3\n",
    "# Ha: means are not same for atleast 1  or  u1 <> u2 <> u3 \n",
    "# CI = 95%, p = 0.05\n",
    "\n",
    "# perform the test\n",
    "stats.f_oneway(adult,youth,children)\n",
    "\n",
    "# based on p values, p value of the test is high compared to cutoff p at 95%; \n",
    "# thus we will fail to reject the H0\n",
    "\n",
    "# business conclusion\n",
    "#  Different age groups do not influence  number of insurance claims,claim is made at 95%CI"
   ]
  },
  {
   "cell_type": "markdown",
   "id": "ec08064f",
   "metadata": {},
   "source": [
    "####  20. Is there any relationship between total number of policy claims and the claimed amount?"
   ]
  },
  {
   "cell_type": "code",
   "execution_count": 115,
   "id": "1cc166db",
   "metadata": {},
   "outputs": [
    {
     "data": {
      "text/plain": [
       "(-0.022392720732100045, 0.4626700742269406)"
      ]
     },
     "execution_count": 115,
     "metadata": {},
     "output_type": "execute_result"
    }
   ],
   "source": [
    "# H0 - No relationship between total number of policy claims and the claimed amount.\n",
    "# Ha - Relationship exists between total number of policy claims and the claimed amount.\n",
    "# \n",
    "# CI - 95%, p - 0.05\n",
    "\n",
    "# performing pearson correlation test\n",
    "stats.pearsonr(df.total_policy_claims,df.claim_amount)\n",
    "\n",
    "# On the basis of p values, p value of the test is large compared to cutoff p at 95%; \n",
    "# fail to reject the null hypothesis.\n",
    "\n",
    "# business conclusion\n",
    "# There is weak negative  correlation between  total number of policy claims and the claimed amount.\n",
    "# This claim is made at the CI of 95%.\n"
   ]
  }
 ],
 "metadata": {
  "kernelspec": {
   "display_name": "Python 3",
   "language": "python",
   "name": "python3"
  },
  "language_info": {
   "codemirror_mode": {
    "name": "ipython",
    "version": 3
   },
   "file_extension": ".py",
   "mimetype": "text/x-python",
   "name": "python",
   "nbconvert_exporter": "python",
   "pygments_lexer": "ipython3",
   "version": "3.8.8"
  }
 },
 "nbformat": 4,
 "nbformat_minor": 5
}
