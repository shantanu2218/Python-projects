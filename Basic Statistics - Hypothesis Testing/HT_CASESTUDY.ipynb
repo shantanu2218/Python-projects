{
 "cells": [
  {
   "cell_type": "markdown",
   "id": "b80593b0",
   "metadata": {},
   "source": [
    "#### Packages required"
   ]
  },
  {
   "cell_type": "code",
   "execution_count": 4,
   "id": "259031c2",
   "metadata": {},
   "outputs": [],
   "source": [
    "import numpy as np\n",
    "import pandas as pd\n",
    "import matplotlib.pyplot as plt\n",
    "import seaborn as sns\n",
    "%matplotlib inline\n",
    "\n",
    "import scipy.stats as stats\n",
    "import warnings\n",
    "\n",
    "warnings.filterwarnings('ignore')"
   ]
  },
  {
   "cell_type": "markdown",
   "id": "bcbef4cb",
   "metadata": {},
   "source": [
    "### BUSINESS PROBLEM - 1"
   ]
  },
  {
   "cell_type": "code",
   "execution_count": 25,
   "id": "bb11b1cb",
   "metadata": {},
   "outputs": [],
   "source": [
    "data=pd.read_csv('C:/Users/sharm/Downloads/PYTHON_Case_study/Basic Statistics - Hypothesis Testing/LoansData.csv')"
   ]
  },
  {
   "cell_type": "code",
   "execution_count": 26,
   "id": "ee4cbbcf",
   "metadata": {},
   "outputs": [
    {
     "data": {
      "text/html": [
       "<div>\n",
       "<style scoped>\n",
       "    .dataframe tbody tr th:only-of-type {\n",
       "        vertical-align: middle;\n",
       "    }\n",
       "\n",
       "    .dataframe tbody tr th {\n",
       "        vertical-align: top;\n",
       "    }\n",
       "\n",
       "    .dataframe thead th {\n",
       "        text-align: right;\n",
       "    }\n",
       "</style>\n",
       "<table border=\"1\" class=\"dataframe\">\n",
       "  <thead>\n",
       "    <tr style=\"text-align: right;\">\n",
       "      <th></th>\n",
       "      <th>Amount.Requested</th>\n",
       "      <th>Amount.Funded.By.Investors</th>\n",
       "      <th>Interest.Rate</th>\n",
       "      <th>Loan.Length</th>\n",
       "      <th>Loan.Purpose</th>\n",
       "      <th>Debt.To.Income.Ratio</th>\n",
       "      <th>State</th>\n",
       "      <th>Home.Ownership</th>\n",
       "      <th>Monthly.Income</th>\n",
       "      <th>FICO.Range</th>\n",
       "      <th>Open.CREDIT.Lines</th>\n",
       "      <th>Revolving.CREDIT.Balance</th>\n",
       "      <th>Inquiries.in.the.Last.6.Months</th>\n",
       "      <th>Employment.Length</th>\n",
       "    </tr>\n",
       "  </thead>\n",
       "  <tbody>\n",
       "    <tr>\n",
       "      <th>0</th>\n",
       "      <td>20000.0</td>\n",
       "      <td>20000.0</td>\n",
       "      <td>8.90%</td>\n",
       "      <td>36 months</td>\n",
       "      <td>debt_consolidation</td>\n",
       "      <td>14.90%</td>\n",
       "      <td>SC</td>\n",
       "      <td>MORTGAGE</td>\n",
       "      <td>6541.67</td>\n",
       "      <td>735-739</td>\n",
       "      <td>14.0</td>\n",
       "      <td>14272.0</td>\n",
       "      <td>2.0</td>\n",
       "      <td>&lt; 1 year</td>\n",
       "    </tr>\n",
       "    <tr>\n",
       "      <th>1</th>\n",
       "      <td>19200.0</td>\n",
       "      <td>19200.0</td>\n",
       "      <td>12.12%</td>\n",
       "      <td>36 months</td>\n",
       "      <td>debt_consolidation</td>\n",
       "      <td>28.36%</td>\n",
       "      <td>TX</td>\n",
       "      <td>MORTGAGE</td>\n",
       "      <td>4583.33</td>\n",
       "      <td>715-719</td>\n",
       "      <td>12.0</td>\n",
       "      <td>11140.0</td>\n",
       "      <td>1.0</td>\n",
       "      <td>2 years</td>\n",
       "    </tr>\n",
       "  </tbody>\n",
       "</table>\n",
       "</div>"
      ],
      "text/plain": [
       "   Amount.Requested  Amount.Funded.By.Investors Interest.Rate Loan.Length  \\\n",
       "0           20000.0                     20000.0         8.90%   36 months   \n",
       "1           19200.0                     19200.0        12.12%   36 months   \n",
       "\n",
       "         Loan.Purpose Debt.To.Income.Ratio State Home.Ownership  \\\n",
       "0  debt_consolidation               14.90%    SC       MORTGAGE   \n",
       "1  debt_consolidation               28.36%    TX       MORTGAGE   \n",
       "\n",
       "   Monthly.Income FICO.Range  Open.CREDIT.Lines  Revolving.CREDIT.Balance  \\\n",
       "0         6541.67    735-739               14.0                   14272.0   \n",
       "1         4583.33    715-719               12.0                   11140.0   \n",
       "\n",
       "   Inquiries.in.the.Last.6.Months Employment.Length  \n",
       "0                             2.0          < 1 year  \n",
       "1                             1.0           2 years  "
      ]
     },
     "execution_count": 26,
     "metadata": {},
     "output_type": "execute_result"
    }
   ],
   "source": [
    "data.head(2)"
   ]
  },
  {
   "cell_type": "code",
   "execution_count": 85,
   "id": "34035e8a",
   "metadata": {},
   "outputs": [
    {
     "name": "stdout",
     "output_type": "stream",
     "text": [
      "<class 'pandas.core.frame.DataFrame'>\n",
      "RangeIndex: 2500 entries, 0 to 2499\n",
      "Data columns (total 14 columns):\n",
      " #   Column                          Non-Null Count  Dtype  \n",
      "---  ------                          --------------  -----  \n",
      " 0   Amount.Requested                2499 non-null   float64\n",
      " 1   Amount.Funded.By.Investors      2499 non-null   float64\n",
      " 2   Interest.Rate                   2498 non-null   object \n",
      " 3   Loan.Length                     2500 non-null   object \n",
      " 4   Loan.Purpose                    2500 non-null   object \n",
      " 5   Debt.To.Income.Ratio            2499 non-null   object \n",
      " 6   State                           2500 non-null   object \n",
      " 7   Home.Ownership                  2499 non-null   object \n",
      " 8   Monthly.Income                  2499 non-null   float64\n",
      " 9   FICO.Range                      2498 non-null   object \n",
      " 10  Open.CREDIT.Lines               2497 non-null   float64\n",
      " 11  Revolving.CREDIT.Balance        2497 non-null   float64\n",
      " 12  Inquiries.in.the.Last.6.Months  2497 non-null   float64\n",
      " 13  Employment.Length               2423 non-null   object \n",
      "dtypes: float64(6), object(8)\n",
      "memory usage: 273.6+ KB\n"
     ]
    }
   ],
   "source": [
    "data.info()"
   ]
  },
  {
   "cell_type": "markdown",
   "id": "368bf7c9",
   "metadata": {},
   "source": [
    "#### a. Intrest rate is varied for different loan amounts (Less intrest charged for high loan amounts)"
   ]
  },
  {
   "cell_type": "code",
   "execution_count": 27,
   "id": "662857b7",
   "metadata": {},
   "outputs": [],
   "source": [
    "data['Interest.Rate']=pd.to_numeric(data['Interest.Rate'].str.replace('%',''))"
   ]
  },
  {
   "cell_type": "code",
   "execution_count": 108,
   "id": "23c0ca18",
   "metadata": {},
   "outputs": [],
   "source": [
    "# Outlier treatment\n",
    "data[['Amount.Requested','Interest.Rate']]=data[['Amount.Requested','Interest.Rate']].apply(lambda x:x.clip(lower=x.quantile(0.01),upper=x.quantile(0.99)))"
   ]
  },
  {
   "cell_type": "code",
   "execution_count": 28,
   "id": "7827525f",
   "metadata": {},
   "outputs": [],
   "source": [
    "# Missing value treatment\n",
    "data['Amount.Requested']=data['Amount.Requested'].fillna(np.mean(data['Amount.Requested']))\n",
    "data['Interest.Rate']=data['Interest.Rate'].fillna(np.mean(data['Interest.Rate']))"
   ]
  },
  {
   "cell_type": "code",
   "execution_count": 109,
   "id": "97732370",
   "metadata": {},
   "outputs": [
    {
     "data": {
      "text/plain": [
       "(0.3307712190844858, 6.760892826466205e-65)"
      ]
     },
     "execution_count": 109,
     "metadata": {},
     "output_type": "execute_result"
    }
   ],
   "source": [
    "# H0 - No relationship between interest rate and loan amount\n",
    "# Ha - Relationship exists between interest rate and loan amount\n",
    "# \n",
    "# CI - 95%, p - 0.05\n",
    "\n",
    "# performing pearson correlation test\n",
    "stats.pearsonr(data['Amount.Requested'],data['Interest.Rate'])\n",
    "\n",
    "# On the basis of p values, p value of the test is very small compared to cutoff p at 95%; \n",
    "# Rejecting the null hypothesis.\n",
    "\n",
    "# business conclusion\n",
    "# There is positive, intermediate correlation between interest rate and loan amount.\n",
    "# This claim is made at the CI of 95%.\n"
   ]
  },
  {
   "cell_type": "code",
   "execution_count": 116,
   "id": "27cd462f",
   "metadata": {},
   "outputs": [
    {
     "data": {
      "image/png": "[encoded data removed]",
      "text/plain": [
       "<Figure size 432x288 with 1 Axes>"
      ]
     },
     "metadata": {
      "needs_background": "light"
     },
     "output_type": "display_data"
    }
   ],
   "source": [
    "sns.scatterplot(data['Amount.Requested'],data['Interest.Rate'])\n",
    "plt.show()"
   ]
  },
  {
   "cell_type": "markdown",
   "id": "1a009af1",
   "metadata": {},
   "source": [
    "#### b. Loan length is directly effecting interest rate."
   ]
  },
  {
   "cell_type": "code",
   "execution_count": 30,
   "id": "8471db2b",
   "metadata": {},
   "outputs": [],
   "source": [
    "data['Loan.Length']=pd.to_numeric(data['Loan.Length'].str.replace(' months',''))"
   ]
  },
  {
   "cell_type": "code",
   "execution_count": 90,
   "id": "2b7914e5",
   "metadata": {},
   "outputs": [
    {
     "data": {
      "text/plain": [
       "(0.4241719241662059, 9.54959606435366e-110)"
      ]
     },
     "execution_count": 90,
     "metadata": {},
     "output_type": "execute_result"
    }
   ],
   "source": [
    "# H0 - No relationship between interest rate and loan Length\n",
    "# Ha - Relationship exists between interest rate and loan Length\n",
    "# \n",
    "# CI - 95%, p - 0.05\n",
    "\n",
    "# performing pearson correlation test\n",
    "stats.pearsonr(data['Loan.Length'],data['Interest.Rate'])\n",
    "\n",
    "# On the basis of p values, p value of the test is very small compared to cutoff p at 95%; \n",
    "# Rejecting the null hypothesis.\n",
    "\n",
    "# business conclusion\n",
    "# There is positive intermediate correlation between interest rate and loan Length.\n",
    "# This claim is made at the CI of 95%.\n"
   ]
  },
  {
   "cell_type": "markdown",
   "id": "b0b71124",
   "metadata": {},
   "source": [
    "#### c. Interest rate varies for different purpose of loans"
   ]
  },
  {
   "cell_type": "code",
   "execution_count": 91,
   "id": "c49cacd8",
   "metadata": {},
   "outputs": [
    {
     "data": {
      "text/plain": [
       "Index(['Amount.Requested', 'Amount.Funded.By.Investors', 'Interest.Rate',\n",
       "       'Loan.Length', 'Loan.Purpose', 'Debt.To.Income.Ratio', 'State',\n",
       "       'Home.Ownership', 'Monthly.Income', 'FICO.Range', 'Open.CREDIT.Lines',\n",
       "       'Revolving.CREDIT.Balance', 'Inquiries.in.the.Last.6.Months',\n",
       "       'Employment.Length'],\n",
       "      dtype='object')"
      ]
     },
     "execution_count": 91,
     "metadata": {},
     "output_type": "execute_result"
    }
   ],
   "source": [
    "data.columns"
   ]
  },
  {
   "cell_type": "code",
   "execution_count": 94,
   "id": "2eb9b297",
   "metadata": {},
   "outputs": [
    {
     "data": {
      "text/plain": [
       "14"
      ]
     },
     "execution_count": 94,
     "metadata": {},
     "output_type": "execute_result"
    }
   ],
   "source": [
    "data['Loan.Purpose'].nunique()"
   ]
  },
  {
   "cell_type": "code",
   "execution_count": 96,
   "id": "acfaca29",
   "metadata": {},
   "outputs": [
    {
     "data": {
      "text/plain": [
       "debt_consolidation    1307\n",
       "credit_card            444\n",
       "other                  201\n",
       "home_improvement       152\n",
       "major_purchase         101\n",
       "small_business          87\n",
       "car                     50\n",
       "wedding                 39\n",
       "medical                 30\n",
       "moving                  29\n",
       "vacation                21\n",
       "house                   20\n",
       "educational             15\n",
       "renewable_energy         4\n",
       "Name: Loan.Purpose, dtype: int64"
      ]
     },
     "execution_count": 96,
     "metadata": {},
     "output_type": "execute_result"
    }
   ],
   "source": [
    "data['Loan.Purpose'].value_counts()"
   ]
  },
  {
   "cell_type": "code",
   "execution_count": 19,
   "id": "0f59621d",
   "metadata": {},
   "outputs": [
    {
     "name": "stdout",
     "output_type": "stream",
     "text": [
      "mean of LP1:  13.586916602907444 mean of LP2:  13.050687811510445 mean of LP3:  13.159552238805967 \n",
      "mean of LP4:  11.594276315789479 mean of LP5:  10.797821782178215 mean of LP6:  12.839195402298845 \n",
      "mean of LP7:  11.113000000000001 mean of LP8:  12.073215084888428 mean of LP9:  11.649666666666668 \n",
      "mean of LP10:  13.621034482758622 mean of LP11:  11.966190476190476 mean of LP12:  13.448000000000002 \n",
      "mean of LP13:  11.007333333333332 mean of LP14:  9.8775 \n",
      "\n"
     ]
    },
    {
     "data": {
      "text/plain": [
       "F_onewayResult(statistic=7.4826387840974355, pvalue=1.1599665535989115e-14)"
      ]
     },
     "execution_count": 19,
     "metadata": {},
     "output_type": "execute_result"
    }
   ],
   "source": [
    "# filter the data for different Loan Purpose \n",
    "LP1=data.loc[data['Loan.Purpose'] =='debt_consolidation','Interest.Rate']\n",
    "LP2=data.loc[data['Loan.Purpose'] =='credit_card','Interest.Rate']\n",
    "LP3=data.loc[data['Loan.Purpose'] =='other','Interest.Rate']\n",
    "LP4=data.loc[data['Loan.Purpose'] =='home_improvement','Interest.Rate']\n",
    "LP5=data.loc[data['Loan.Purpose'] =='major_purchase','Interest.Rate']\n",
    "LP6=data.loc[data['Loan.Purpose'] =='small_business','Interest.Rate']\n",
    "LP7=data.loc[data['Loan.Purpose'] =='car','Interest.Rate']\n",
    "LP8=data.loc[data['Loan.Purpose'] =='wedding','Interest.Rate']\n",
    "LP9=data.loc[data['Loan.Purpose'] =='medical','Interest.Rate']\n",
    "LP10=data.loc[data['Loan.Purpose'] =='moving','Interest.Rate']\n",
    "LP11=data.loc[data['Loan.Purpose'] =='vacation','Interest.Rate']\n",
    "LP12=data.loc[data['Loan.Purpose'] =='house','Interest.Rate']\n",
    "LP13=data.loc[data['Loan.Purpose'] =='educational','Interest.Rate']\n",
    "LP14=data.loc[data['Loan.Purpose'] =='renewable_energy','Interest.Rate']\n",
    "\n",
    "# display the means of the every loan purpose\n",
    "print( 'mean of LP1: ', LP1.mean(),'mean of LP2: ', LP2.mean(),'mean of LP3: ', LP3.mean(),'\\n'\n",
    "      'mean of LP4: ', LP4.mean(),'mean of LP5: ', LP5.mean(),'mean of LP6: ', LP6.mean(),'\\n'\n",
    "      'mean of LP7: ', LP7.mean(),'mean of LP8: ', LP8.mean(),'mean of LP9: ', LP9.mean(),'\\n'\n",
    "      'mean of LP10: ', LP10.mean(),'mean of LP11: ', LP11.mean(),'mean of LP12: ', LP12.mean(),'\\n'\n",
    "      'mean of LP13: ', LP13.mean(),'mean of LP14: ', LP14.mean(),'\\n')\n",
    "\n",
    "# H0: means are same; or samples are from same population\n",
    "# Ha: means are not same\n",
    "# CI = 95%, p = 0.05\n",
    "\n",
    "# perform the test\n",
    "stats.f_oneway(LP1,LP2,LP3,LP4,LP5,LP6,LP7,LP8,LP9,LP10,LP11,LP12,LP13,LP14)\n",
    "\n",
    "# based on p values, p value of the test is small compared to cutoff p at 95%; \n",
    "# thus we will reject the H0\n",
    "\n",
    "# business conclusion\n",
    "# Different purpose of loan are associated with different Interest rate and \n",
    "# this claim is made at the cI of 95%.\n"
   ]
  },
  {
   "cell_type": "markdown",
   "id": "97b622cd",
   "metadata": {},
   "source": [
    "#### d. There is relationship between FICO scores and Home Ownership. It means that, People with owning home will have high FICO scores."
   ]
  },
  {
   "cell_type": "code",
   "execution_count": 31,
   "id": "3e2169d4",
   "metadata": {},
   "outputs": [
    {
     "data": {
      "text/plain": [
       "5"
      ]
     },
     "execution_count": 31,
     "metadata": {},
     "output_type": "execute_result"
    }
   ],
   "source": [
    "data['Home.Ownership'].nunique()"
   ]
  },
  {
   "cell_type": "code",
   "execution_count": 54,
   "id": "e4498232",
   "metadata": {},
   "outputs": [
    {
     "data": {
      "text/plain": [
       "MORTGAGE    1147\n",
       "RENT        1146\n",
       "OWN          200\n",
       "OTHER          5\n",
       "NONE           1\n",
       "Name: Home.Ownership, dtype: int64"
      ]
     },
     "execution_count": 54,
     "metadata": {},
     "output_type": "execute_result"
    }
   ],
   "source": [
    "data['Home.Ownership'].value_counts()"
   ]
  },
  {
   "cell_type": "code",
   "execution_count": 33,
   "id": "8a0d980c",
   "metadata": {},
   "outputs": [
    {
     "data": {
      "text/plain": [
       "Index(['Amount.Requested', 'Amount.Funded.By.Investors', 'Interest.Rate',\n",
       "       'Loan.Length', 'Loan.Purpose', 'Debt.To.Income.Ratio', 'State',\n",
       "       'Home.Ownership', 'Monthly.Income', 'FICO.Range', 'Open.CREDIT.Lines',\n",
       "       'Revolving.CREDIT.Balance', 'Inquiries.in.the.Last.6.Months',\n",
       "       'Employment.Length'],\n",
       "      dtype='object')"
      ]
     },
     "execution_count": 33,
     "metadata": {},
     "output_type": "execute_result"
    }
   ],
   "source": [
    "data.columns"
   ]
  },
  {
   "cell_type": "code",
   "execution_count": 34,
   "id": "c3147271",
   "metadata": {},
   "outputs": [],
   "source": [
    "data[['Fico_low','Fico_high']]=data['FICO.Range'].apply(lambda x:pd.Series(str(x).split('-')))"
   ]
  },
  {
   "cell_type": "code",
   "execution_count": 35,
   "id": "e960f1a8",
   "metadata": {},
   "outputs": [],
   "source": [
    "data[['Fico_low','Fico_high']]=data[['Fico_low','Fico_high']].dropna().apply(lambda x:pd.Series(pd.to_numeric(x)))"
   ]
  },
  {
   "cell_type": "code",
   "execution_count": 73,
   "id": "8765d6a6",
   "metadata": {},
   "outputs": [],
   "source": [
    "data['FICO_Avg']=((data.Fico_high+data.Fico_low)/2)\n",
    "data['FICO_Avg']=data['FICO_Avg'].fillna(np.mean(data['FICO_Avg']))"
   ]
  },
  {
   "cell_type": "code",
   "execution_count": 74,
   "id": "ce044cc9",
   "metadata": {},
   "outputs": [
    {
     "data": {
      "text/plain": [
       "0"
      ]
     },
     "execution_count": 74,
     "metadata": {},
     "output_type": "execute_result"
    }
   ],
   "source": [
    "data.FICO_Avg.isnull().sum()"
   ]
  },
  {
   "cell_type": "code",
   "execution_count": 75,
   "id": "72bbb8e1",
   "metadata": {},
   "outputs": [
    {
     "data": {
      "text/html": [
       "<div>\n",
       "<style scoped>\n",
       "    .dataframe tbody tr th:only-of-type {\n",
       "        vertical-align: middle;\n",
       "    }\n",
       "\n",
       "    .dataframe tbody tr th {\n",
       "        vertical-align: top;\n",
       "    }\n",
       "\n",
       "    .dataframe thead th {\n",
       "        text-align: right;\n",
       "    }\n",
       "</style>\n",
       "<table border=\"1\" class=\"dataframe\">\n",
       "  <thead>\n",
       "    <tr style=\"text-align: right;\">\n",
       "      <th></th>\n",
       "      <th>Amount.Requested</th>\n",
       "      <th>Amount.Funded.By.Investors</th>\n",
       "      <th>Interest.Rate</th>\n",
       "      <th>Loan.Length</th>\n",
       "      <th>Loan.Purpose</th>\n",
       "      <th>Debt.To.Income.Ratio</th>\n",
       "      <th>State</th>\n",
       "      <th>Home.Ownership</th>\n",
       "      <th>Monthly.Income</th>\n",
       "      <th>FICO.Range</th>\n",
       "      <th>Open.CREDIT.Lines</th>\n",
       "      <th>Revolving.CREDIT.Balance</th>\n",
       "      <th>Inquiries.in.the.Last.6.Months</th>\n",
       "      <th>Employment.Length</th>\n",
       "      <th>Fico_low</th>\n",
       "      <th>Fico_high</th>\n",
       "      <th>FICO_Avg</th>\n",
       "    </tr>\n",
       "  </thead>\n",
       "  <tbody>\n",
       "    <tr>\n",
       "      <th>0</th>\n",
       "      <td>20000.0</td>\n",
       "      <td>20000.0</td>\n",
       "      <td>8.90</td>\n",
       "      <td>36</td>\n",
       "      <td>debt_consolidation</td>\n",
       "      <td>14.90%</td>\n",
       "      <td>SC</td>\n",
       "      <td>MORTGAGE</td>\n",
       "      <td>6541.67</td>\n",
       "      <td>735-739</td>\n",
       "      <td>14.0</td>\n",
       "      <td>14272.0</td>\n",
       "      <td>2.0</td>\n",
       "      <td>&lt; 1 year</td>\n",
       "      <td>735.0</td>\n",
       "      <td>739.0</td>\n",
       "      <td>737.0</td>\n",
       "    </tr>\n",
       "    <tr>\n",
       "      <th>1</th>\n",
       "      <td>19200.0</td>\n",
       "      <td>19200.0</td>\n",
       "      <td>12.12</td>\n",
       "      <td>36</td>\n",
       "      <td>debt_consolidation</td>\n",
       "      <td>28.36%</td>\n",
       "      <td>TX</td>\n",
       "      <td>MORTGAGE</td>\n",
       "      <td>4583.33</td>\n",
       "      <td>715-719</td>\n",
       "      <td>12.0</td>\n",
       "      <td>11140.0</td>\n",
       "      <td>1.0</td>\n",
       "      <td>2 years</td>\n",
       "      <td>715.0</td>\n",
       "      <td>719.0</td>\n",
       "      <td>717.0</td>\n",
       "    </tr>\n",
       "    <tr>\n",
       "      <th>2</th>\n",
       "      <td>35000.0</td>\n",
       "      <td>35000.0</td>\n",
       "      <td>21.98</td>\n",
       "      <td>60</td>\n",
       "      <td>debt_consolidation</td>\n",
       "      <td>23.81%</td>\n",
       "      <td>CA</td>\n",
       "      <td>MORTGAGE</td>\n",
       "      <td>11500.00</td>\n",
       "      <td>690-694</td>\n",
       "      <td>14.0</td>\n",
       "      <td>21977.0</td>\n",
       "      <td>1.0</td>\n",
       "      <td>2 years</td>\n",
       "      <td>690.0</td>\n",
       "      <td>694.0</td>\n",
       "      <td>692.0</td>\n",
       "    </tr>\n",
       "    <tr>\n",
       "      <th>3</th>\n",
       "      <td>10000.0</td>\n",
       "      <td>9975.0</td>\n",
       "      <td>9.99</td>\n",
       "      <td>36</td>\n",
       "      <td>debt_consolidation</td>\n",
       "      <td>14.30%</td>\n",
       "      <td>KS</td>\n",
       "      <td>MORTGAGE</td>\n",
       "      <td>3833.33</td>\n",
       "      <td>695-699</td>\n",
       "      <td>10.0</td>\n",
       "      <td>9346.0</td>\n",
       "      <td>0.0</td>\n",
       "      <td>5 years</td>\n",
       "      <td>695.0</td>\n",
       "      <td>699.0</td>\n",
       "      <td>697.0</td>\n",
       "    </tr>\n",
       "    <tr>\n",
       "      <th>4</th>\n",
       "      <td>12000.0</td>\n",
       "      <td>12000.0</td>\n",
       "      <td>11.71</td>\n",
       "      <td>36</td>\n",
       "      <td>credit_card</td>\n",
       "      <td>18.78%</td>\n",
       "      <td>NJ</td>\n",
       "      <td>RENT</td>\n",
       "      <td>3195.00</td>\n",
       "      <td>695-699</td>\n",
       "      <td>11.0</td>\n",
       "      <td>14469.0</td>\n",
       "      <td>0.0</td>\n",
       "      <td>9 years</td>\n",
       "      <td>695.0</td>\n",
       "      <td>699.0</td>\n",
       "      <td>697.0</td>\n",
       "    </tr>\n",
       "  </tbody>\n",
       "</table>\n",
       "</div>"
      ],
      "text/plain": [
       "   Amount.Requested  Amount.Funded.By.Investors  Interest.Rate  Loan.Length  \\\n",
       "0           20000.0                     20000.0           8.90           36   \n",
       "1           19200.0                     19200.0          12.12           36   \n",
       "2           35000.0                     35000.0          21.98           60   \n",
       "3           10000.0                      9975.0           9.99           36   \n",
       "4           12000.0                     12000.0          11.71           36   \n",
       "\n",
       "         Loan.Purpose Debt.To.Income.Ratio State Home.Ownership  \\\n",
       "0  debt_consolidation               14.90%    SC       MORTGAGE   \n",
       "1  debt_consolidation               28.36%    TX       MORTGAGE   \n",
       "2  debt_consolidation               23.81%    CA       MORTGAGE   \n",
       "3  debt_consolidation               14.30%    KS       MORTGAGE   \n",
       "4         credit_card               18.78%    NJ           RENT   \n",
       "\n",
       "   Monthly.Income FICO.Range  Open.CREDIT.Lines  Revolving.CREDIT.Balance  \\\n",
       "0         6541.67    735-739               14.0                   14272.0   \n",
       "1         4583.33    715-719               12.0                   11140.0   \n",
       "2        11500.00    690-694               14.0                   21977.0   \n",
       "3         3833.33    695-699               10.0                    9346.0   \n",
       "4         3195.00    695-699               11.0                   14469.0   \n",
       "\n",
       "   Inquiries.in.the.Last.6.Months Employment.Length  Fico_low  Fico_high  \\\n",
       "0                             2.0          < 1 year     735.0      739.0   \n",
       "1                             1.0           2 years     715.0      719.0   \n",
       "2                             1.0           2 years     690.0      694.0   \n",
       "3                             0.0           5 years     695.0      699.0   \n",
       "4                             0.0           9 years     695.0      699.0   \n",
       "\n",
       "   FICO_Avg  \n",
       "0     737.0  \n",
       "1     717.0  \n",
       "2     692.0  \n",
       "3     697.0  \n",
       "4     697.0  "
      ]
     },
     "execution_count": 75,
     "metadata": {},
     "output_type": "execute_result"
    }
   ],
   "source": [
    "data.head()"
   ]
  },
  {
   "cell_type": "code",
   "execution_count": null,
   "id": "f58cb280",
   "metadata": {},
   "outputs": [],
   "source": [
    "## filter the data for different Home_ownership category:\n",
    "\n",
    "Home_Own_1=data.loc[data['Home.Ownership'] =='MORTGAGE' ,'FICO_Avg']\n",
    "Home_Own_2=data.loc[data['Home.Ownership'] =='RENT' ,'FICO_Avg']\n",
    "Home_Own_3=data.loc[data['Home.Ownership'] =='OWN' ,'FICO_Avg']\n",
    "Home_Own_4=data.loc[data['Home.Ownership'] =='OTHER' ,'FICO_Avg']\n",
    "Home_Own_5=data.loc[data['Home.Ownership'] =='NONE' ,'FICO_Avg']\n",
    "\n",
    "\n",
    "# display the mean value for different Home_ownership category:\n",
    "print('Mean for MORTGAGE home ownership' , Home_Own_1.mean(),'\\n', \n",
    "      'Mean for RENT home ownership', Home_Own_2.mean(),'\\n',\n",
    "     'Mean for OWN home ownership', Home_Own_3.mean(),'\\n',\n",
    "      'Mean for OTHER home ownership',Home_Own_4.mean(),'\\n',\n",
    "      'Mean for NONE home ownership',Home_Own_5.mean())\n",
    "\n",
    "\n",
    "\n",
    "# # H0: means are same    or  u1 = u2 =u3\n",
    "# Ha: means are not same for atleast 1  or  u1 <> u2 <> u3 \n",
    "# CI = 95%, p = 0.05\n",
    "\n",
    "# perform the test\n",
    "stats.f_oneway(Home_Own_1,Home_Own_2,Home_Own_3,Home_Own_4,Home_Own_5)\n",
    "\n",
    "# based on p values, p value of the test is low compared to cutoff p at 95%; \n",
    "# thus we will  reject the H0\n",
    "\n",
    "# business conclusion\n",
    "#  Different home ownership do influence Fico scores ,claim is made at 95%CI"
   ]
  },
  {
   "cell_type": "markdown",
   "id": "82a584fa",
   "metadata": {},
   "source": [
    "### BUSINESS PROBLEM - 2\n",
    "We would like to assess if there is any difference in the average\n",
    "price quotes provided by Mary and Barry."
   ]
  },
  {
   "cell_type": "code",
   "execution_count": 123,
   "id": "0c81c713",
   "metadata": {},
   "outputs": [],
   "source": [
    "price=pd.read_csv('C:/Users/sharm/Downloads/PYTHON_Case_study/Basic Statistics - Hypothesis Testing/Price_Quotes.csv')"
   ]
  },
  {
   "cell_type": "code",
   "execution_count": 124,
   "id": "2dddfc1d",
   "metadata": {},
   "outputs": [
    {
     "data": {
      "text/html": [
       "<div>\n",
       "<style scoped>\n",
       "    .dataframe tbody tr th:only-of-type {\n",
       "        vertical-align: middle;\n",
       "    }\n",
       "\n",
       "    .dataframe tbody tr th {\n",
       "        vertical-align: top;\n",
       "    }\n",
       "\n",
       "    .dataframe thead th {\n",
       "        text-align: right;\n",
       "    }\n",
       "</style>\n",
       "<table border=\"1\" class=\"dataframe\">\n",
       "  <thead>\n",
       "    <tr style=\"text-align: right;\">\n",
       "      <th></th>\n",
       "      <th>Order_Number</th>\n",
       "      <th>Barry_Price</th>\n",
       "      <th>Mary_Price</th>\n",
       "    </tr>\n",
       "  </thead>\n",
       "  <tbody>\n",
       "    <tr>\n",
       "      <th>0</th>\n",
       "      <td>1</td>\n",
       "      <td>126</td>\n",
       "      <td>114</td>\n",
       "    </tr>\n",
       "    <tr>\n",
       "      <th>1</th>\n",
       "      <td>2</td>\n",
       "      <td>110</td>\n",
       "      <td>118</td>\n",
       "    </tr>\n",
       "    <tr>\n",
       "      <th>2</th>\n",
       "      <td>3</td>\n",
       "      <td>138</td>\n",
       "      <td>114</td>\n",
       "    </tr>\n",
       "    <tr>\n",
       "      <th>3</th>\n",
       "      <td>4</td>\n",
       "      <td>142</td>\n",
       "      <td>111</td>\n",
       "    </tr>\n",
       "    <tr>\n",
       "      <th>4</th>\n",
       "      <td>5</td>\n",
       "      <td>146</td>\n",
       "      <td>129</td>\n",
       "    </tr>\n",
       "  </tbody>\n",
       "</table>\n",
       "</div>"
      ],
      "text/plain": [
       "   Order_Number  Barry_Price  Mary_Price\n",
       "0             1          126         114\n",
       "1             2          110         118\n",
       "2             3          138         114\n",
       "3             4          142         111\n",
       "4             5          146         129"
      ]
     },
     "execution_count": 124,
     "metadata": {},
     "output_type": "execute_result"
    }
   ],
   "source": [
    "price.head()"
   ]
  },
  {
   "cell_type": "code",
   "execution_count": 125,
   "id": "dc413076",
   "metadata": {},
   "outputs": [
    {
     "name": "stdout",
     "output_type": "stream",
     "text": [
      "<class 'pandas.core.frame.DataFrame'>\n",
      "RangeIndex: 12 entries, 0 to 11\n",
      "Data columns (total 3 columns):\n",
      " #   Column        Non-Null Count  Dtype\n",
      "---  ------        --------------  -----\n",
      " 0   Order_Number  12 non-null     int64\n",
      " 1   Barry_Price   12 non-null     int64\n",
      " 2   Mary_Price    12 non-null     int64\n",
      "dtypes: int64(3)\n",
      "memory usage: 416.0 bytes\n"
     ]
    }
   ],
   "source": [
    "price.info()"
   ]
  },
  {
   "cell_type": "code",
   "execution_count": 132,
   "id": "2c833e45",
   "metadata": {},
   "outputs": [
    {
     "name": "stdout",
     "output_type": "stream",
     "text": [
      "mean of the Barry's Price: 124.33333333333333\n",
      "mean of the Mary's Price: 114.75 \n",
      "\n",
      "Ttest_relResult(statistic=2.521376510892349, pvalue=0.02840588045242053)\n"
     ]
    }
   ],
   "source": [
    "# mean of the Barry's Price and Mary's Price\n",
    "print( \"mean of the Barry's Price:\" , price.Barry_Price.mean() )\n",
    "print(  \"mean of the Mary's Price:\" , price.Mary_Price.mean() ,'\\n' )\n",
    "\n",
    "# H0 : u1 = u2\n",
    "# Ha : u1 <> u2\n",
    "\n",
    "# CI = 95%, p = 0.05\n",
    "\n",
    "# perform the test\n",
    "print( stats.ttest_rel(price.Barry_Price,price.Mary_Price) )\n",
    "\n",
    "# based on p values, p value of the test is lower compared to cutoff p at 95%; \n",
    "# thus we will reject the H0\n",
    "\n",
    "# business conclusion\n",
    "# Price quotes provided by Bary and Mary are different,and this claim is made at 95% CI"
   ]
  },
  {
   "cell_type": "markdown",
   "id": "81a9f154",
   "metadata": {},
   "source": [
    "### BUSINESS PROBLEM - 3\n",
    "Determine what effect, if any, the reengineering effort had on the incidence behavioral problems and staff turnover. i.e To determine if the reengineering effort changed the critical incidence rate. Is there evidence that the critical incidence rate improved?"
   ]
  },
  {
   "cell_type": "code",
   "execution_count": 8,
   "id": "83ec84dd",
   "metadata": {},
   "outputs": [],
   "source": [
    "treatment=pd.read_csv('C:/Users/sharm/Downloads/PYTHON_Case_study/Basic Statistics - Hypothesis Testing/Treatment_Facility.csv')"
   ]
  },
  {
   "cell_type": "code",
   "execution_count": 9,
   "id": "eb699bfd",
   "metadata": {},
   "outputs": [
    {
     "data": {
      "text/html": [
       "<div>\n",
       "<style scoped>\n",
       "    .dataframe tbody tr th:only-of-type {\n",
       "        vertical-align: middle;\n",
       "    }\n",
       "\n",
       "    .dataframe tbody tr th {\n",
       "        vertical-align: top;\n",
       "    }\n",
       "\n",
       "    .dataframe thead th {\n",
       "        text-align: right;\n",
       "    }\n",
       "</style>\n",
       "<table border=\"1\" class=\"dataframe\">\n",
       "  <thead>\n",
       "    <tr style=\"text-align: right;\">\n",
       "      <th></th>\n",
       "      <th>Month</th>\n",
       "      <th>Reengineer</th>\n",
       "      <th>Employee_Turnover</th>\n",
       "      <th>VAR4</th>\n",
       "      <th>VAR5</th>\n",
       "    </tr>\n",
       "  </thead>\n",
       "  <tbody>\n",
       "    <tr>\n",
       "      <th>0</th>\n",
       "      <td>1</td>\n",
       "      <td>Prior</td>\n",
       "      <td>0.0000</td>\n",
       "      <td>24.390244</td>\n",
       "      <td>42.682927</td>\n",
       "    </tr>\n",
       "    <tr>\n",
       "      <th>1</th>\n",
       "      <td>2</td>\n",
       "      <td>Prior</td>\n",
       "      <td>6.0606</td>\n",
       "      <td>19.354839</td>\n",
       "      <td>25.806452</td>\n",
       "    </tr>\n",
       "  </tbody>\n",
       "</table>\n",
       "</div>"
      ],
      "text/plain": [
       "   Month Reengineer  Employee_Turnover       VAR4       VAR5\n",
       "0      1      Prior             0.0000  24.390244  42.682927\n",
       "1      2      Prior             6.0606  19.354839  25.806452"
      ]
     },
     "execution_count": 9,
     "metadata": {},
     "output_type": "execute_result"
    }
   ],
   "source": [
    "treatment.head(2)"
   ]
  },
  {
   "cell_type": "code",
   "execution_count": 10,
   "id": "f6727401",
   "metadata": {},
   "outputs": [
    {
     "name": "stdout",
     "output_type": "stream",
     "text": [
      "<class 'pandas.core.frame.DataFrame'>\n",
      "RangeIndex: 20 entries, 0 to 19\n",
      "Data columns (total 5 columns):\n",
      " #   Column             Non-Null Count  Dtype  \n",
      "---  ------             --------------  -----  \n",
      " 0   Month              20 non-null     int64  \n",
      " 1   Reengineer         20 non-null     object \n",
      " 2   Employee_Turnover  20 non-null     float64\n",
      " 3   VAR4               20 non-null     float64\n",
      " 4   VAR5               20 non-null     float64\n",
      "dtypes: float64(3), int64(1), object(1)\n",
      "memory usage: 928.0+ bytes\n"
     ]
    }
   ],
   "source": [
    "treatment.info()"
   ]
  },
  {
   "cell_type": "code",
   "execution_count": 11,
   "id": "55c31fc1",
   "metadata": {},
   "outputs": [],
   "source": [
    "# Renaming VAR4 and VAR5 columns to their proper names:\n",
    "\n",
    "treatment.rename(columns={'VAR4':'TRFF_Per','VAR5':'CI_per'},inplace=True)"
   ]
  },
  {
   "cell_type": "code",
   "execution_count": 12,
   "id": "c14e3793",
   "metadata": {},
   "outputs": [
    {
     "data": {
      "text/html": [
       "<div>\n",
       "<style scoped>\n",
       "    .dataframe tbody tr th:only-of-type {\n",
       "        vertical-align: middle;\n",
       "    }\n",
       "\n",
       "    .dataframe tbody tr th {\n",
       "        vertical-align: top;\n",
       "    }\n",
       "\n",
       "    .dataframe thead th {\n",
       "        text-align: right;\n",
       "    }\n",
       "</style>\n",
       "<table border=\"1\" class=\"dataframe\">\n",
       "  <thead>\n",
       "    <tr style=\"text-align: right;\">\n",
       "      <th></th>\n",
       "      <th>Month</th>\n",
       "      <th>Reengineer</th>\n",
       "      <th>Employee_Turnover</th>\n",
       "      <th>TRFF_Per</th>\n",
       "      <th>CI_per</th>\n",
       "    </tr>\n",
       "  </thead>\n",
       "  <tbody>\n",
       "    <tr>\n",
       "      <th>0</th>\n",
       "      <td>1</td>\n",
       "      <td>Prior</td>\n",
       "      <td>0.0000</td>\n",
       "      <td>24.390244</td>\n",
       "      <td>42.682927</td>\n",
       "    </tr>\n",
       "    <tr>\n",
       "      <th>1</th>\n",
       "      <td>2</td>\n",
       "      <td>Prior</td>\n",
       "      <td>6.0606</td>\n",
       "      <td>19.354839</td>\n",
       "      <td>25.806452</td>\n",
       "    </tr>\n",
       "  </tbody>\n",
       "</table>\n",
       "</div>"
      ],
      "text/plain": [
       "   Month Reengineer  Employee_Turnover   TRFF_Per     CI_per\n",
       "0      1      Prior             0.0000  24.390244  42.682927\n",
       "1      2      Prior             6.0606  19.354839  25.806452"
      ]
     },
     "execution_count": 12,
     "metadata": {},
     "output_type": "execute_result"
    }
   ],
   "source": [
    "treatment.head(2)"
   ]
  },
  {
   "cell_type": "code",
   "execution_count": 13,
   "id": "af77b8eb",
   "metadata": {},
   "outputs": [
    {
     "data": {
      "text/plain": [
       "2"
      ]
     },
     "execution_count": 13,
     "metadata": {},
     "output_type": "execute_result"
    }
   ],
   "source": [
    "treatment.Reengineer.nunique()"
   ]
  },
  {
   "cell_type": "code",
   "execution_count": 14,
   "id": "d23f88e7",
   "metadata": {},
   "outputs": [
    {
     "data": {
      "text/plain": [
       "Prior    13\n",
       "Post      7\n",
       "Name: Reengineer, dtype: int64"
      ]
     },
     "execution_count": 14,
     "metadata": {},
     "output_type": "execute_result"
    }
   ],
   "source": [
    "treatment.Reengineer.value_counts()"
   ]
  },
  {
   "cell_type": "code",
   "execution_count": 23,
   "id": "248b7cf3",
   "metadata": {},
   "outputs": [
    {
     "name": "stdout",
     "output_type": "stream",
     "text": [
      "variance for prior reengineering CI%  2188.851951255721 \n",
      " variance for post reengineering CI%  52.258022415666076\n"
     ]
    },
    {
     "data": {
      "text/plain": [
       "Ttest_indResult(statistic=2.209006531430452, pvalue=0.045565519570193176)"
      ]
     },
     "execution_count": 23,
     "metadata": {},
     "output_type": "execute_result"
    }
   ],
   "source": [
    "## filter the data for prior and post reengineering month's  CI( critical incident %)\n",
    "\n",
    "prior = treatment.loc[treatment.Reengineer=='Prior','CI_per']\n",
    "post = treatment.loc[treatment.Reengineer=='Post','CI_per']\n",
    "\n",
    "\n",
    "# display the variance for prior and post reengineering month's CI:\n",
    "print('variance for prior reengineering CI% ',np.var(prior),'\\n',\n",
    "      'variance for post reengineering CI% ' , np.var(post))\n",
    "\n",
    "# NOTE: Going with unequal variance ttest, huge difference  in the two variance.\n",
    "\n",
    "# # H0: means are same    or  u1 = u2\n",
    "# Ha: means are not same  or  u1 <> u2\n",
    "# CI = 95%, p = 0.05\n",
    "\n",
    "# perform the test\n",
    "stats.ttest_ind(prior,post,equal_var=False)###IMP\n",
    "\n",
    "\n",
    "# based on p values, p value of the test is low compared to cutoff p at 95%; \n",
    "# thus we will  reject the H0\n",
    "\n",
    "# business conclusion\n",
    "# Reengineering effort changed the critical incidence rate and this claim is made at 95% CI. "
   ]
  },
  {
   "cell_type": "markdown",
   "id": "3bf4d4bd",
   "metadata": {},
   "source": [
    "### BUSINESS PROBLEM - 4\n",
    "We will focus on the prioritization system. If the system is working, then\n",
    "high priority jobs, on average, should be completed more quickly than medium priority jobs,\n",
    "and medium priority jobs should be completed more quickly than low priority jobs. Use the\n",
    "data provided to determine whether this is, in fact, occurring."
   ]
  },
  {
   "cell_type": "code",
   "execution_count": 5,
   "id": "87d41aff",
   "metadata": {},
   "outputs": [],
   "source": [
    "assessment=pd.read_csv('C:/Users/sharm/Downloads/PYTHON_Case_study/Basic Statistics - Hypothesis Testing/Priority_Assessment.csv')"
   ]
  },
  {
   "cell_type": "code",
   "execution_count": 6,
   "id": "7c6e53e7",
   "metadata": {},
   "outputs": [
    {
     "data": {
      "text/html": [
       "<div>\n",
       "<style scoped>\n",
       "    .dataframe tbody tr th:only-of-type {\n",
       "        vertical-align: middle;\n",
       "    }\n",
       "\n",
       "    .dataframe tbody tr th {\n",
       "        vertical-align: top;\n",
       "    }\n",
       "\n",
       "    .dataframe thead th {\n",
       "        text-align: right;\n",
       "    }\n",
       "</style>\n",
       "<table border=\"1\" class=\"dataframe\">\n",
       "  <thead>\n",
       "    <tr style=\"text-align: right;\">\n",
       "      <th></th>\n",
       "      <th>Days</th>\n",
       "      <th>Priority</th>\n",
       "    </tr>\n",
       "  </thead>\n",
       "  <tbody>\n",
       "    <tr>\n",
       "      <th>0</th>\n",
       "      <td>3.3</td>\n",
       "      <td>High</td>\n",
       "    </tr>\n",
       "    <tr>\n",
       "      <th>1</th>\n",
       "      <td>7.9</td>\n",
       "      <td>Medium</td>\n",
       "    </tr>\n",
       "  </tbody>\n",
       "</table>\n",
       "</div>"
      ],
      "text/plain": [
       "   Days Priority\n",
       "0   3.3     High\n",
       "1   7.9   Medium"
      ]
     },
     "execution_count": 6,
     "metadata": {},
     "output_type": "execute_result"
    }
   ],
   "source": [
    "assessment.head(2)"
   ]
  },
  {
   "cell_type": "code",
   "execution_count": 168,
   "id": "32f9eae6",
   "metadata": {},
   "outputs": [
    {
     "name": "stdout",
     "output_type": "stream",
     "text": [
      "<class 'pandas.core.frame.DataFrame'>\n",
      "RangeIndex: 642 entries, 0 to 641\n",
      "Data columns (total 2 columns):\n",
      " #   Column    Non-Null Count  Dtype  \n",
      "---  ------    --------------  -----  \n",
      " 0   Days      642 non-null    float64\n",
      " 1   Priority  642 non-null    object \n",
      "dtypes: float64(1), object(1)\n",
      "memory usage: 10.2+ KB\n"
     ]
    }
   ],
   "source": [
    "assessment.info()"
   ]
  },
  {
   "cell_type": "code",
   "execution_count": 169,
   "id": "5c4eb25a",
   "metadata": {},
   "outputs": [
    {
     "data": {
      "text/plain": [
       "3"
      ]
     },
     "execution_count": 169,
     "metadata": {},
     "output_type": "execute_result"
    }
   ],
   "source": [
    "assessment.Priority.nunique()"
   ]
  },
  {
   "cell_type": "code",
   "execution_count": 177,
   "id": "95837fc1",
   "metadata": {},
   "outputs": [
    {
     "name": "stdout",
     "output_type": "stream",
     "text": [
      "mean of high_Priority:  3.023619631901845 \n",
      " mean of medium_Priority:  2.5000000000000004 \n",
      " mean of low_Priority:  4.228358208955225 \n",
      "\n"
     ]
    },
    {
     "data": {
      "text/plain": [
       "F_onewayResult(statistic=1.812311010076072, pvalue=0.16411459461716182)"
      ]
     },
     "execution_count": 177,
     "metadata": {},
     "output_type": "execute_result"
    }
   ],
   "source": [
    "# filter the data according to different priority days\n",
    "high_P = assessment.loc[assessment.Priority=='High','Days']\n",
    "med_P  = assessment.loc[assessment.Priority=='Medium','Days']\n",
    "low_P  = assessment.loc[assessment.Priority=='Low','Days']\n",
    "\n",
    "# display the means of the 3 types of priority days\n",
    "print( 'mean of high_Priority: ', high_P.mean(),'\\n',\n",
    "       'mean of medium_Priority: ', med_P.mean(),'\\n',\n",
    "       'mean of low_Priority: ', low_P.mean(),'\\n')\n",
    "      \n",
    "      \n",
    "\n",
    "# H0: means are same; or samples are from same population\n",
    "# Ha: means are not same\n",
    "# CI = 95%, p = 0.05\n",
    "\n",
    "# perform the test\n",
    "stats.f_oneway(high_P,low_P,med_P)\n",
    "\n",
    "# based on p values, p value of the test is large as  compared to cutoff p at 95%; \n",
    "# thus we will fail to  reject the H0\n",
    "\n",
    "# business conclusion\n",
    "# We are not sure whether prioritization sytstem is working or not and \n",
    "# this claim is made at the cI of 95%."
   ]
  },
  {
   "cell_type": "markdown",
   "id": "e944d9f4",
   "metadata": {},
   "source": [
    "# BUSINESS PROBLEM 5"
   ]
  },
  {
   "cell_type": "markdown",
   "id": "0a730a26",
   "metadata": {},
   "source": [
    "#### Use the survey results to address the following questions\n",
    "    1. What is the overall level of customer satisfaction?\n",
    "    2. What factors are linked to satisfaction?\n",
    "    3. What is the demographic profile of Film on the Rocks patrons?\n",
    "    4. In what media outlet(s) should the film series be advertised?"
   ]
  },
  {
   "cell_type": "code",
   "execution_count": 79,
   "id": "68785728",
   "metadata": {},
   "outputs": [],
   "source": [
    "films=pd.read_csv('C:/Users/sharm/Downloads/PYTHON_Case_study/Basic Statistics - Hypothesis Testing/Films.csv')"
   ]
  },
  {
   "cell_type": "code",
   "execution_count": 80,
   "id": "ab57cac0",
   "metadata": {},
   "outputs": [
    {
     "data": {
      "text/html": [
       "<div>\n",
       "<style scoped>\n",
       "    .dataframe tbody tr th:only-of-type {\n",
       "        vertical-align: middle;\n",
       "    }\n",
       "\n",
       "    .dataframe tbody tr th {\n",
       "        vertical-align: top;\n",
       "    }\n",
       "\n",
       "    .dataframe thead th {\n",
       "        text-align: right;\n",
       "    }\n",
       "</style>\n",
       "<table border=\"1\" class=\"dataframe\">\n",
       "  <thead>\n",
       "    <tr style=\"text-align: right;\">\n",
       "      <th></th>\n",
       "      <th>_rowstate_</th>\n",
       "      <th>Movie</th>\n",
       "      <th>Gender</th>\n",
       "      <th>Marital_Status</th>\n",
       "      <th>Sinage</th>\n",
       "      <th>Parking</th>\n",
       "      <th>Clean</th>\n",
       "      <th>Overall</th>\n",
       "      <th>Age</th>\n",
       "      <th>Income</th>\n",
       "      <th>Hear_About</th>\n",
       "    </tr>\n",
       "  </thead>\n",
       "  <tbody>\n",
       "    <tr>\n",
       "      <th>0</th>\n",
       "      <td>0</td>\n",
       "      <td>Ferris Buellers Day Off</td>\n",
       "      <td>Female</td>\n",
       "      <td>Married</td>\n",
       "      <td>2.0</td>\n",
       "      <td>2.0</td>\n",
       "      <td>2.0</td>\n",
       "      <td>2.0</td>\n",
       "      <td>3.0</td>\n",
       "      <td>1.0</td>\n",
       "      <td>5</td>\n",
       "    </tr>\n",
       "    <tr>\n",
       "      <th>1</th>\n",
       "      <td>0</td>\n",
       "      <td>Ferris Buellers Day Off</td>\n",
       "      <td>Female</td>\n",
       "      <td>Single</td>\n",
       "      <td>1.0</td>\n",
       "      <td>1.0</td>\n",
       "      <td>1.0</td>\n",
       "      <td>1.0</td>\n",
       "      <td>2.0</td>\n",
       "      <td>1.0</td>\n",
       "      <td>5</td>\n",
       "    </tr>\n",
       "    <tr>\n",
       "      <th>2</th>\n",
       "      <td>0</td>\n",
       "      <td>Ferris Buellers Day Off</td>\n",
       "      <td>Male</td>\n",
       "      <td>Married</td>\n",
       "      <td>2.0</td>\n",
       "      <td>4.0</td>\n",
       "      <td>3.0</td>\n",
       "      <td>2.0</td>\n",
       "      <td>4.0</td>\n",
       "      <td>1.0</td>\n",
       "      <td>5</td>\n",
       "    </tr>\n",
       "    <tr>\n",
       "      <th>3</th>\n",
       "      <td>0</td>\n",
       "      <td>Ferris Buellers Day Off</td>\n",
       "      <td>Female</td>\n",
       "      <td>Married</td>\n",
       "      <td>1.0</td>\n",
       "      <td>3.0</td>\n",
       "      <td>2.0</td>\n",
       "      <td>2.0</td>\n",
       "      <td>4.0</td>\n",
       "      <td>1.0</td>\n",
       "      <td>5</td>\n",
       "    </tr>\n",
       "    <tr>\n",
       "      <th>4</th>\n",
       "      <td>0</td>\n",
       "      <td>Ferris Buellers Day Off</td>\n",
       "      <td>Female</td>\n",
       "      <td>Married</td>\n",
       "      <td>1.0</td>\n",
       "      <td>1.0</td>\n",
       "      <td>1.0</td>\n",
       "      <td>1.0</td>\n",
       "      <td>3.0</td>\n",
       "      <td>3.0</td>\n",
       "      <td>1</td>\n",
       "    </tr>\n",
       "  </tbody>\n",
       "</table>\n",
       "</div>"
      ],
      "text/plain": [
       "   _rowstate_                    Movie  Gender Marital_Status  Sinage  \\\n",
       "0           0  Ferris Buellers Day Off  Female        Married     2.0   \n",
       "1           0  Ferris Buellers Day Off  Female         Single     1.0   \n",
       "2           0  Ferris Buellers Day Off    Male        Married     2.0   \n",
       "3           0  Ferris Buellers Day Off  Female        Married     1.0   \n",
       "4           0  Ferris Buellers Day Off  Female        Married     1.0   \n",
       "\n",
       "   Parking  Clean  Overall  Age  Income Hear_About  \n",
       "0      2.0    2.0      2.0  3.0     1.0          5  \n",
       "1      1.0    1.0      1.0  2.0     1.0          5  \n",
       "2      4.0    3.0      2.0  4.0     1.0          5  \n",
       "3      3.0    2.0      2.0  4.0     1.0          5  \n",
       "4      1.0    1.0      1.0  3.0     3.0          1  "
      ]
     },
     "execution_count": 80,
     "metadata": {},
     "output_type": "execute_result"
    }
   ],
   "source": [
    "films.head()"
   ]
  },
  {
   "cell_type": "code",
   "execution_count": 81,
   "id": "8f767422",
   "metadata": {},
   "outputs": [
    {
     "name": "stdout",
     "output_type": "stream",
     "text": [
      "<class 'pandas.core.frame.DataFrame'>\n",
      "RangeIndex: 330 entries, 0 to 329\n",
      "Data columns (total 11 columns):\n",
      " #   Column          Non-Null Count  Dtype  \n",
      "---  ------          --------------  -----  \n",
      " 0   _rowstate_      330 non-null    int64  \n",
      " 1   Movie           330 non-null    object \n",
      " 2   Gender          330 non-null    object \n",
      " 3   Marital_Status  328 non-null    object \n",
      " 4   Sinage          328 non-null    float64\n",
      " 5   Parking         328 non-null    float64\n",
      " 6   Clean           327 non-null    float64\n",
      " 7   Overall         328 non-null    float64\n",
      " 8   Age             328 non-null    float64\n",
      " 9   Income          314 non-null    float64\n",
      " 10  Hear_About      323 non-null    object \n",
      "dtypes: float64(6), int64(1), object(4)\n",
      "memory usage: 28.5+ KB\n"
     ]
    }
   ],
   "source": [
    "films.info()"
   ]
  },
  {
   "cell_type": "markdown",
   "id": "1ab8bae9",
   "metadata": {},
   "source": [
    "####  Ques:1 What is the overall level of customer satisfaction?"
   ]
  },
  {
   "cell_type": "code",
   "execution_count": 184,
   "id": "9d2371dc",
   "metadata": {},
   "outputs": [
    {
     "data": {
      "text/plain": [
       "2.0"
      ]
     },
     "execution_count": 184,
     "metadata": {},
     "output_type": "execute_result"
    }
   ],
   "source": [
    "films.Overall.median()"
   ]
  },
  {
   "cell_type": "markdown",
   "id": "203e632c",
   "metadata": {},
   "source": [
    "####  Ques:2 What factors are linked to satisfaction?"
   ]
  },
  {
   "cell_type": "code",
   "execution_count": 82,
   "id": "60f28131",
   "metadata": {},
   "outputs": [
    {
     "data": {
      "text/plain": [
       "(125.17708834561675,\n",
       " 5.517448379868074e-19,\n",
       " 16,\n",
       " array([[6.64954128e+01, 7.01896024e+01, 1.10825688e+01, 2.30886850e+00,\n",
       "         9.23547401e-01],\n",
       "        [7.00183486e+01, 7.39082569e+01, 1.16697248e+01, 2.43119266e+00,\n",
       "         9.72477064e-01],\n",
       "        [5.28440367e+00, 5.57798165e+00, 8.80733945e-01, 1.83486239e-01,\n",
       "         7.33944954e-02],\n",
       "        [4.40366972e-01, 4.64831804e-01, 7.33944954e-02, 1.52905199e-02,\n",
       "         6.11620795e-03],\n",
       "        [1.76146789e+00, 1.85932722e+00, 2.93577982e-01, 6.11620795e-02,\n",
       "         2.44648318e-02]]))"
      ]
     },
     "execution_count": 82,
     "metadata": {},
     "output_type": "execute_result"
    }
   ],
   "source": [
    "obs1=pd.crosstab(films.Overall,films.Clean)\n",
    "stats.chi2_contingency(observed=obs1)\n",
    "# cleanliness of the venue effects customer satisfaction \n",
    "# claim made at 95% CI"
   ]
  },
  {
   "cell_type": "code",
   "execution_count": 188,
   "id": "a59a000f",
   "metadata": {},
   "outputs": [
    {
     "data": {
      "text/plain": [
       "(229.47943657632044,\n",
       " 8.162450437897989e-40,\n",
       " 16,\n",
       " array([[6.18776758e+01, 7.06513761e+01, 1.33914373e+01, 3.23241590e+00,\n",
       "         1.84709480e+00],\n",
       "        [6.51559633e+01, 7.43944954e+01, 1.41009174e+01, 3.40366972e+00,\n",
       "         1.94495413e+00],\n",
       "        [4.91743119e+00, 5.61467890e+00, 1.06422018e+00, 2.56880734e-01,\n",
       "         1.46788991e-01],\n",
       "        [4.09785933e-01, 4.67889908e-01, 8.86850153e-02, 2.14067278e-02,\n",
       "         1.22324159e-02],\n",
       "        [1.63914373e+00, 1.87155963e+00, 3.54740061e-01, 8.56269113e-02,\n",
       "         4.89296636e-02]]))"
      ]
     },
     "execution_count": 188,
     "metadata": {},
     "output_type": "execute_result"
    }
   ],
   "source": [
    "obs2=pd.crosstab(films.Overall,films.Parking)\n",
    "\n",
    "stats.chi2_contingency(observed=obs2)\n",
    "# Parking for the venue effects customer satisfaction \n",
    "# claim made at 95% CI"
   ]
  },
  {
   "cell_type": "code",
   "execution_count": 189,
   "id": "59820428",
   "metadata": {},
   "outputs": [
    {
     "data": {
      "text/plain": [
       "(124.81695331531306,\n",
       " 6.47639805161236e-19,\n",
       " 16,\n",
       " array([[5.18348624e+01, 7.11009174e+01, 2.20183486e+01, 2.75229358e+00,\n",
       "         2.29357798e+00],\n",
       "        [5.52905199e+01, 7.58409786e+01, 2.34862385e+01, 2.93577982e+00,\n",
       "         2.44648318e+00],\n",
       "        [4.14678899e+00, 5.68807339e+00, 1.76146789e+00, 2.20183486e-01,\n",
       "         1.83486239e-01],\n",
       "        [3.45565749e-01, 4.74006116e-01, 1.46788991e-01, 1.83486239e-02,\n",
       "         1.52905199e-02],\n",
       "        [1.38226300e+00, 1.89602446e+00, 5.87155963e-01, 7.33944954e-02,\n",
       "         6.11620795e-02]]))"
      ]
     },
     "execution_count": 189,
     "metadata": {},
     "output_type": "execute_result"
    }
   ],
   "source": [
    "obs3=pd.crosstab(films.Overall,films.Sinage)\n",
    "\n",
    "stats.chi2_contingency(observed=obs3)\n",
    "# Signage to the venue effects customer satisfaction \n",
    "# claim made at 95% CI"
   ]
  },
  {
   "cell_type": "markdown",
   "id": "8f927be4",
   "metadata": {},
   "source": [
    "#### Ques:3 What is the demographic profile of Film on the Rocks patrons?"
   ]
  },
  {
   "cell_type": "code",
   "execution_count": 84,
   "id": "4a2e629a",
   "metadata": {},
   "outputs": [],
   "source": [
    "films.Gender[films.Gender=='1']='Male'\n",
    "films.Gender[films.Gender=='2']='Female'\n",
    "\n",
    "films.Marital_Status[films.Marital_Status=='1']='Married'\n",
    "films.Marital_Status[films.Marital_Status=='2']='Single'"
   ]
  },
  {
   "cell_type": "code",
   "execution_count": 90,
   "id": "abce2a62",
   "metadata": {},
   "outputs": [
    {
     "data": {
      "text/html": [
       "<div>\n",
       "<style scoped>\n",
       "    .dataframe tbody tr th:only-of-type {\n",
       "        vertical-align: middle;\n",
       "    }\n",
       "\n",
       "    .dataframe tbody tr th {\n",
       "        vertical-align: top;\n",
       "    }\n",
       "\n",
       "    .dataframe thead th {\n",
       "        text-align: right;\n",
       "    }\n",
       "</style>\n",
       "<table border=\"1\" class=\"dataframe\">\n",
       "  <thead>\n",
       "    <tr style=\"text-align: right;\">\n",
       "      <th>Movie</th>\n",
       "      <th>Ferris Buellers Day Off</th>\n",
       "      <th>Old School</th>\n",
       "      <th>Willy Wonka</th>\n",
       "    </tr>\n",
       "    <tr>\n",
       "      <th>Gender</th>\n",
       "      <th></th>\n",
       "      <th></th>\n",
       "      <th></th>\n",
       "    </tr>\n",
       "  </thead>\n",
       "  <tbody>\n",
       "    <tr>\n",
       "      <th>Female</th>\n",
       "      <td>86</td>\n",
       "      <td>19</td>\n",
       "      <td>108</td>\n",
       "    </tr>\n",
       "    <tr>\n",
       "      <th>Male</th>\n",
       "      <td>51</td>\n",
       "      <td>13</td>\n",
       "      <td>53</td>\n",
       "    </tr>\n",
       "  </tbody>\n",
       "</table>\n",
       "</div>"
      ],
      "text/plain": [
       "Movie   Ferris Buellers Day Off  Old School  Willy Wonka\n",
       "Gender                                                  \n",
       "Female                       86          19          108\n",
       "Male                         51          13           53"
      ]
     },
     "execution_count": 90,
     "metadata": {},
     "output_type": "execute_result"
    }
   ],
   "source": [
    "pd.crosstab(films.Movie,films.Gender).T"
   ]
  },
  {
   "cell_type": "code",
   "execution_count": 89,
   "id": "496737ac",
   "metadata": {},
   "outputs": [
    {
     "data": {
      "text/html": [
       "<div>\n",
       "<style scoped>\n",
       "    .dataframe tbody tr th:only-of-type {\n",
       "        vertical-align: middle;\n",
       "    }\n",
       "\n",
       "    .dataframe tbody tr th {\n",
       "        vertical-align: top;\n",
       "    }\n",
       "\n",
       "    .dataframe thead th {\n",
       "        text-align: right;\n",
       "    }\n",
       "</style>\n",
       "<table border=\"1\" class=\"dataframe\">\n",
       "  <thead>\n",
       "    <tr style=\"text-align: right;\">\n",
       "      <th>Movie</th>\n",
       "      <th>Ferris Buellers Day Off</th>\n",
       "      <th>Old School</th>\n",
       "      <th>Willy Wonka</th>\n",
       "    </tr>\n",
       "    <tr>\n",
       "      <th>Age</th>\n",
       "      <th></th>\n",
       "      <th></th>\n",
       "      <th></th>\n",
       "    </tr>\n",
       "  </thead>\n",
       "  <tbody>\n",
       "    <tr>\n",
       "      <th>1.0</th>\n",
       "      <td>12</td>\n",
       "      <td>2</td>\n",
       "      <td>12</td>\n",
       "    </tr>\n",
       "    <tr>\n",
       "      <th>2.0</th>\n",
       "      <td>69</td>\n",
       "      <td>20</td>\n",
       "      <td>86</td>\n",
       "    </tr>\n",
       "    <tr>\n",
       "      <th>3.0</th>\n",
       "      <td>48</td>\n",
       "      <td>10</td>\n",
       "      <td>59</td>\n",
       "    </tr>\n",
       "    <tr>\n",
       "      <th>4.0</th>\n",
       "      <td>7</td>\n",
       "      <td>0</td>\n",
       "      <td>3</td>\n",
       "    </tr>\n",
       "  </tbody>\n",
       "</table>\n",
       "</div>"
      ],
      "text/plain": [
       "Movie  Ferris Buellers Day Off  Old School  Willy Wonka\n",
       "Age                                                    \n",
       "1.0                         12           2           12\n",
       "2.0                         69          20           86\n",
       "3.0                         48          10           59\n",
       "4.0                          7           0            3"
      ]
     },
     "execution_count": 89,
     "metadata": {},
     "output_type": "execute_result"
    }
   ],
   "source": [
    "pd.crosstab(films.Movie,films.Age).T"
   ]
  },
  {
   "cell_type": "code",
   "execution_count": 88,
   "id": "45af7958",
   "metadata": {},
   "outputs": [
    {
     "data": {
      "text/html": [
       "<div>\n",
       "<style scoped>\n",
       "    .dataframe tbody tr th:only-of-type {\n",
       "        vertical-align: middle;\n",
       "    }\n",
       "\n",
       "    .dataframe tbody tr th {\n",
       "        vertical-align: top;\n",
       "    }\n",
       "\n",
       "    .dataframe thead th {\n",
       "        text-align: right;\n",
       "    }\n",
       "</style>\n",
       "<table border=\"1\" class=\"dataframe\">\n",
       "  <thead>\n",
       "    <tr style=\"text-align: right;\">\n",
       "      <th>Movie</th>\n",
       "      <th>Ferris Buellers Day Off</th>\n",
       "      <th>Old School</th>\n",
       "      <th>Willy Wonka</th>\n",
       "    </tr>\n",
       "    <tr>\n",
       "      <th>Marital_Status</th>\n",
       "      <th></th>\n",
       "      <th></th>\n",
       "      <th></th>\n",
       "    </tr>\n",
       "  </thead>\n",
       "  <tbody>\n",
       "    <tr>\n",
       "      <th>Married</th>\n",
       "      <td>41</td>\n",
       "      <td>11</td>\n",
       "      <td>48</td>\n",
       "    </tr>\n",
       "    <tr>\n",
       "      <th>Single</th>\n",
       "      <td>94</td>\n",
       "      <td>20</td>\n",
       "      <td>112</td>\n",
       "    </tr>\n",
       "    <tr>\n",
       "      <th>Slngle</th>\n",
       "      <td>2</td>\n",
       "      <td>0</td>\n",
       "      <td>0</td>\n",
       "    </tr>\n",
       "  </tbody>\n",
       "</table>\n",
       "</div>"
      ],
      "text/plain": [
       "Movie           Ferris Buellers Day Off  Old School  Willy Wonka\n",
       "Marital_Status                                                  \n",
       "Married                              41          11           48\n",
       "Single                               94          20          112\n",
       "Slngle                                2           0            0"
      ]
     },
     "execution_count": 88,
     "metadata": {},
     "output_type": "execute_result"
    }
   ],
   "source": [
    "pd.crosstab(films.Movie,[films.Marital_Status]).T"
   ]
  },
  {
   "cell_type": "code",
   "execution_count": 91,
   "id": "b7e19aab",
   "metadata": {},
   "outputs": [
    {
     "data": {
      "text/html": [
       "<div>\n",
       "<style scoped>\n",
       "    .dataframe tbody tr th:only-of-type {\n",
       "        vertical-align: middle;\n",
       "    }\n",
       "\n",
       "    .dataframe tbody tr th {\n",
       "        vertical-align: top;\n",
       "    }\n",
       "\n",
       "    .dataframe thead th {\n",
       "        text-align: right;\n",
       "    }\n",
       "</style>\n",
       "<table border=\"1\" class=\"dataframe\">\n",
       "  <thead>\n",
       "    <tr style=\"text-align: right;\">\n",
       "      <th>Movie</th>\n",
       "      <th>Ferris Buellers Day Off</th>\n",
       "      <th>Old School</th>\n",
       "      <th>Willy Wonka</th>\n",
       "    </tr>\n",
       "    <tr>\n",
       "      <th>Income</th>\n",
       "      <th></th>\n",
       "      <th></th>\n",
       "      <th></th>\n",
       "    </tr>\n",
       "  </thead>\n",
       "  <tbody>\n",
       "    <tr>\n",
       "      <th>1.0</th>\n",
       "      <td>54</td>\n",
       "      <td>14</td>\n",
       "      <td>74</td>\n",
       "    </tr>\n",
       "    <tr>\n",
       "      <th>2.0</th>\n",
       "      <td>39</td>\n",
       "      <td>7</td>\n",
       "      <td>36</td>\n",
       "    </tr>\n",
       "    <tr>\n",
       "      <th>3.0</th>\n",
       "      <td>37</td>\n",
       "      <td>11</td>\n",
       "      <td>42</td>\n",
       "    </tr>\n",
       "  </tbody>\n",
       "</table>\n",
       "</div>"
      ],
      "text/plain": [
       "Movie   Ferris Buellers Day Off  Old School  Willy Wonka\n",
       "Income                                                  \n",
       "1.0                          54          14           74\n",
       "2.0                          39           7           36\n",
       "3.0                          37          11           42"
      ]
     },
     "execution_count": 91,
     "metadata": {},
     "output_type": "execute_result"
    }
   ],
   "source": [
    "pd.crosstab(films.Movie,[films.Income]).T"
   ]
  },
  {
   "cell_type": "markdown",
   "id": "2dd0e0ae",
   "metadata": {},
   "source": [
    "#### Ques:4 In what media outlet(s) should the film series be advertised?"
   ]
  },
  {
   "cell_type": "code",
   "execution_count": 103,
   "id": "d8f3f5ce",
   "metadata": {},
   "outputs": [
    {
     "data": {
      "image/png": "[encoded data removed]",
      "text/plain": [
       "<Figure size 576x288 with 1 Axes>"
      ]
     },
     "metadata": {
      "needs_background": "light"
     },
     "output_type": "display_data"
    }
   ],
   "source": [
    "films.Hear_About.value_counts().plot(kind='bar',figsize=(8,4))\n",
    "plt.show()"
   ]
  },
  {
   "cell_type": "markdown",
   "id": "631407ef",
   "metadata": {},
   "source": [
    "### Keeping aside word of mouth , website and television can be used as advertisemnt outlets."
   ]
  }
 ],
 "metadata": {
  "kernelspec": {
   "display_name": "Python 3",
   "language": "python",
   "name": "python3"
  },
  "language_info": {
   "codemirror_mode": {
    "name": "ipython",
    "version": 3
   },
   "file_extension": ".py",
   "mimetype": "text/x-python",
   "name": "python",
   "nbconvert_exporter": "python",
   "pygments_lexer": "ipython3",
   "version": "3.8.8"
  }
 },
 "nbformat": 4,
 "nbformat_minor": 5
}
