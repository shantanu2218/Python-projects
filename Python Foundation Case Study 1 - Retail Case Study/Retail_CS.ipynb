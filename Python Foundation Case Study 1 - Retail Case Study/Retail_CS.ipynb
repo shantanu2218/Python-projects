{
 "cells": [
  {
   "cell_type": "markdown",
   "id": "f2b5fb1f",
   "metadata": {},
   "source": [
    "#### Packages required"
   ]
  },
  {
   "cell_type": "code",
   "execution_count": 1,
   "id": "73a48089",
   "metadata": {},
   "outputs": [],
   "source": [
    "import numpy as np\n",
    "import pandas as pd\n",
    "import matplotlib.pyplot as plt\n",
    "import seaborn as sns\n",
    "%matplotlib inline\n",
    "\n",
    "import warnings\n",
    "\n",
    "warnings.filterwarnings('ignore')"
   ]
  },
  {
   "cell_type": "markdown",
   "id": "35deb2c4",
   "metadata": {},
   "source": [
    "#### Loading Data"
   ]
  },
  {
   "cell_type": "code",
   "execution_count": 2,
   "id": "a28ed422",
   "metadata": {},
   "outputs": [],
   "source": [
    "cust=pd.read_csv('C:/Users/sharm/Downloads/PYTHON_Case_study/Python Foundation Case Study 1 - Retail Case Study/Customer.csv',sep=',')\n",
    "prod=pd.read_csv('C:/Users/sharm/Downloads/PYTHON_Case_study/Python Foundation Case Study 1 - Retail Case Study/prod_cat_info.csv',sep=',')\n",
    "trans=pd.read_csv('C:/Users/sharm/Downloads/PYTHON_Case_study/Python Foundation Case Study 1 - Retail Case Study/Transactions.csv',sep=',')"
   ]
  },
  {
   "cell_type": "code",
   "execution_count": 3,
   "id": "b616bda9",
   "metadata": {},
   "outputs": [
    {
     "name": "stdout",
     "output_type": "stream",
     "text": [
      "<class 'pandas.core.frame.DataFrame'>\n",
      "RangeIndex: 5647 entries, 0 to 5646\n",
      "Data columns (total 4 columns):\n",
      " #   Column       Non-Null Count  Dtype  \n",
      "---  ------       --------------  -----  \n",
      " 0   customer_Id  5647 non-null   int64  \n",
      " 1   DOB          5647 non-null   object \n",
      " 2   Gender       5645 non-null   object \n",
      " 3   city_code    5645 non-null   float64\n",
      "dtypes: float64(1), int64(1), object(2)\n",
      "memory usage: 176.6+ KB\n"
     ]
    }
   ],
   "source": [
    "cust.info()"
   ]
  },
  {
   "cell_type": "code",
   "execution_count": 4,
   "id": "2708d546",
   "metadata": {},
   "outputs": [
    {
     "name": "stdout",
     "output_type": "stream",
     "text": [
      "<class 'pandas.core.frame.DataFrame'>\n",
      "RangeIndex: 23 entries, 0 to 22\n",
      "Data columns (total 4 columns):\n",
      " #   Column             Non-Null Count  Dtype \n",
      "---  ------             --------------  ----- \n",
      " 0   prod_cat_code      23 non-null     int64 \n",
      " 1   prod_cat           23 non-null     object\n",
      " 2   prod_sub_cat_code  23 non-null     int64 \n",
      " 3   prod_subcat        23 non-null     object\n",
      "dtypes: int64(2), object(2)\n",
      "memory usage: 864.0+ bytes\n"
     ]
    }
   ],
   "source": [
    "prod.info()"
   ]
  },
  {
   "cell_type": "code",
   "execution_count": 5,
   "id": "949d5f2d",
   "metadata": {},
   "outputs": [
    {
     "name": "stdout",
     "output_type": "stream",
     "text": [
      "<class 'pandas.core.frame.DataFrame'>\n",
      "RangeIndex: 23053 entries, 0 to 23052\n",
      "Data columns (total 10 columns):\n",
      " #   Column            Non-Null Count  Dtype  \n",
      "---  ------            --------------  -----  \n",
      " 0   transaction_id    23053 non-null  int64  \n",
      " 1   cust_id           23053 non-null  int64  \n",
      " 2   tran_date         23053 non-null  object \n",
      " 3   prod_subcat_code  23053 non-null  int64  \n",
      " 4   prod_cat_code     23053 non-null  int64  \n",
      " 5   Qty               23053 non-null  int64  \n",
      " 6   Rate              23053 non-null  int64  \n",
      " 7   Tax               23053 non-null  float64\n",
      " 8   total_amt         23053 non-null  float64\n",
      " 9   Store_type        23053 non-null  object \n",
      "dtypes: float64(2), int64(6), object(2)\n",
      "memory usage: 1.8+ MB\n"
     ]
    }
   ],
   "source": [
    "trans.info()"
   ]
  },
  {
   "cell_type": "markdown",
   "id": "abd6e2e4",
   "metadata": {},
   "source": [
    "#### 1. Merge the datasets Customers, Product Hierarchy and Transactions as Customer_Final. Ensure to keep all customers who have done transactions with us and select the join type accordingly."
   ]
  },
  {
   "cell_type": "code",
   "execution_count": 6,
   "id": "bea6833f",
   "metadata": {},
   "outputs": [],
   "source": [
    "# joining customer data with transaction data\n",
    "cust_trans=pd.merge(left=trans,right=cust,left_on='cust_id',right_on='customer_Id',how='left')"
   ]
  },
  {
   "cell_type": "code",
   "execution_count": 7,
   "id": "f891b651",
   "metadata": {},
   "outputs": [],
   "source": [
    "# Final merged data(customer+transaction+product)\n",
    "Customer_Final=pd.merge(left=cust_trans,right=prod,left_on=['prod_cat_code','prod_subcat_code'],right_on=['prod_cat_code','prod_sub_cat_code'],how='left')"
   ]
  },
  {
   "cell_type": "code",
   "execution_count": 8,
   "id": "120c4285",
   "metadata": {},
   "outputs": [
    {
     "data": {
      "text/plain": [
       "Index(['transaction_id', 'cust_id', 'tran_date', 'prod_subcat_code',\n",
       "       'prod_cat_code', 'Qty', 'Rate', 'Tax', 'total_amt', 'Store_type',\n",
       "       'customer_Id', 'DOB', 'Gender', 'city_code', 'prod_cat',\n",
       "       'prod_sub_cat_code', 'prod_subcat'],\n",
       "      dtype='object')"
      ]
     },
     "execution_count": 8,
     "metadata": {},
     "output_type": "execute_result"
    }
   ],
   "source": [
    "Customer_Final.columns"
   ]
  },
  {
   "cell_type": "code",
   "execution_count": 9,
   "id": "06ec3f04",
   "metadata": {},
   "outputs": [],
   "source": [
    "# Removing redundant columns\n",
    "Customer_Final.drop(columns=['customer_Id','prod_sub_cat_code','prod_subcat_code','prod_cat_code'],\n",
    "                    inplace=True)"
   ]
  },
  {
   "cell_type": "code",
   "execution_count": 10,
   "id": "80662ada",
   "metadata": {},
   "outputs": [],
   "source": [
    "# Data type conversion\n",
    "Customer_Final.transaction_id = Customer_Final.transaction_id.astype(object)\n",
    "Customer_Final.cust_id = Customer_Final.cust_id.astype(object)\n",
    "Customer_Final.city_code = Customer_Final.city_code.astype(object) "
   ]
  },
  {
   "cell_type": "code",
   "execution_count": 11,
   "id": "d04d78c7",
   "metadata": {},
   "outputs": [],
   "source": [
    "# making dates data consistent\n",
    "Customer_Final.tran_date = Customer_Final.tran_date.str.replace('/','-')"
   ]
  },
  {
   "cell_type": "code",
   "execution_count": 12,
   "id": "021c0b47",
   "metadata": {},
   "outputs": [],
   "source": [
    "# Handling Dates\n",
    "Customer_Final.tran_date=pd.to_datetime(Customer_Final.tran_date,format='%d-%m-%Y')\n",
    "Customer_Final.DOB=pd.to_datetime(Customer_Final.DOB,format='%d-%m-%Y')"
   ]
  },
  {
   "cell_type": "markdown",
   "id": "e9351c34",
   "metadata": {},
   "source": [
    "\n",
    "#### 2. Prepare a summary report for the merged data set.\n",
    "        a. Get the column names and their corresponding data types \n",
    "        b. Top/Bottom 10 observations\n",
    "        c. “Five-number summary” for continuous variables (min, Q1, median, Q3 and max)\n",
    "        d. Frequency tables for all the categorical variables"
   ]
  },
  {
   "cell_type": "code",
   "execution_count": 13,
   "id": "89abaf5e",
   "metadata": {},
   "outputs": [
    {
     "name": "stdout",
     "output_type": "stream",
     "text": [
      "<class 'pandas.core.frame.DataFrame'>\n",
      "Int64Index: 23053 entries, 0 to 23052\n",
      "Data columns (total 13 columns):\n",
      " #   Column          Non-Null Count  Dtype         \n",
      "---  ------          --------------  -----         \n",
      " 0   transaction_id  23053 non-null  object        \n",
      " 1   cust_id         23053 non-null  object        \n",
      " 2   tran_date       23053 non-null  datetime64[ns]\n",
      " 3   Qty             23053 non-null  int64         \n",
      " 4   Rate            23053 non-null  int64         \n",
      " 5   Tax             23053 non-null  float64       \n",
      " 6   total_amt       23053 non-null  float64       \n",
      " 7   Store_type      23053 non-null  object        \n",
      " 8   DOB             23053 non-null  datetime64[ns]\n",
      " 9   Gender          23044 non-null  object        \n",
      " 10  city_code       23045 non-null  object        \n",
      " 11  prod_cat        23053 non-null  object        \n",
      " 12  prod_subcat     23053 non-null  object        \n",
      "dtypes: datetime64[ns](2), float64(2), int64(2), object(7)\n",
      "memory usage: 2.5+ MB\n"
     ]
    }
   ],
   "source": [
    "#  a. Get the column names and their corresponding data types\n",
    "Customer_Final.info()"
   ]
  },
  {
   "cell_type": "code",
   "execution_count": 14,
   "id": "e0d3aa02",
   "metadata": {},
   "outputs": [
    {
     "data": {
      "text/html": [
       "<div>\n",
       "<style scoped>\n",
       "    .dataframe tbody tr th:only-of-type {\n",
       "        vertical-align: middle;\n",
       "    }\n",
       "\n",
       "    .dataframe tbody tr th {\n",
       "        vertical-align: top;\n",
       "    }\n",
       "\n",
       "    .dataframe thead th {\n",
       "        text-align: right;\n",
       "    }\n",
       "</style>\n",
       "<table border=\"1\" class=\"dataframe\">\n",
       "  <thead>\n",
       "    <tr style=\"text-align: right;\">\n",
       "      <th></th>\n",
       "      <th>transaction_id</th>\n",
       "      <th>cust_id</th>\n",
       "      <th>tran_date</th>\n",
       "      <th>Qty</th>\n",
       "      <th>Rate</th>\n",
       "      <th>Tax</th>\n",
       "      <th>total_amt</th>\n",
       "      <th>Store_type</th>\n",
       "      <th>DOB</th>\n",
       "      <th>Gender</th>\n",
       "      <th>city_code</th>\n",
       "      <th>prod_cat</th>\n",
       "      <th>prod_subcat</th>\n",
       "    </tr>\n",
       "  </thead>\n",
       "  <tbody>\n",
       "    <tr>\n",
       "      <th>0</th>\n",
       "      <td>80712190438</td>\n",
       "      <td>270351</td>\n",
       "      <td>2014-02-28</td>\n",
       "      <td>-5</td>\n",
       "      <td>-772</td>\n",
       "      <td>405.300</td>\n",
       "      <td>-4265.300</td>\n",
       "      <td>e-Shop</td>\n",
       "      <td>1981-09-26</td>\n",
       "      <td>M</td>\n",
       "      <td>5.0</td>\n",
       "      <td>Clothing</td>\n",
       "      <td>Women</td>\n",
       "    </tr>\n",
       "    <tr>\n",
       "      <th>1</th>\n",
       "      <td>29258453508</td>\n",
       "      <td>270384</td>\n",
       "      <td>2014-02-27</td>\n",
       "      <td>-5</td>\n",
       "      <td>-1497</td>\n",
       "      <td>785.925</td>\n",
       "      <td>-8270.925</td>\n",
       "      <td>e-Shop</td>\n",
       "      <td>1973-05-11</td>\n",
       "      <td>F</td>\n",
       "      <td>8.0</td>\n",
       "      <td>Electronics</td>\n",
       "      <td>Computers</td>\n",
       "    </tr>\n",
       "    <tr>\n",
       "      <th>2</th>\n",
       "      <td>51750724947</td>\n",
       "      <td>273420</td>\n",
       "      <td>2014-02-24</td>\n",
       "      <td>-2</td>\n",
       "      <td>-791</td>\n",
       "      <td>166.110</td>\n",
       "      <td>-1748.110</td>\n",
       "      <td>TeleShop</td>\n",
       "      <td>1992-07-27</td>\n",
       "      <td>M</td>\n",
       "      <td>8.0</td>\n",
       "      <td>Books</td>\n",
       "      <td>DIY</td>\n",
       "    </tr>\n",
       "    <tr>\n",
       "      <th>3</th>\n",
       "      <td>93274880719</td>\n",
       "      <td>271509</td>\n",
       "      <td>2014-02-24</td>\n",
       "      <td>-3</td>\n",
       "      <td>-1363</td>\n",
       "      <td>429.345</td>\n",
       "      <td>-4518.345</td>\n",
       "      <td>e-Shop</td>\n",
       "      <td>1981-06-08</td>\n",
       "      <td>M</td>\n",
       "      <td>3.0</td>\n",
       "      <td>Home and kitchen</td>\n",
       "      <td>Bath</td>\n",
       "    </tr>\n",
       "    <tr>\n",
       "      <th>4</th>\n",
       "      <td>51750724947</td>\n",
       "      <td>273420</td>\n",
       "      <td>2014-02-23</td>\n",
       "      <td>-2</td>\n",
       "      <td>-791</td>\n",
       "      <td>166.110</td>\n",
       "      <td>-1748.110</td>\n",
       "      <td>TeleShop</td>\n",
       "      <td>1992-07-27</td>\n",
       "      <td>M</td>\n",
       "      <td>8.0</td>\n",
       "      <td>Books</td>\n",
       "      <td>DIY</td>\n",
       "    </tr>\n",
       "    <tr>\n",
       "      <th>5</th>\n",
       "      <td>97439039119</td>\n",
       "      <td>272357</td>\n",
       "      <td>2014-02-23</td>\n",
       "      <td>-2</td>\n",
       "      <td>-824</td>\n",
       "      <td>173.040</td>\n",
       "      <td>-1821.040</td>\n",
       "      <td>TeleShop</td>\n",
       "      <td>1982-10-09</td>\n",
       "      <td>F</td>\n",
       "      <td>6.0</td>\n",
       "      <td>Electronics</td>\n",
       "      <td>Personal Appliances</td>\n",
       "    </tr>\n",
       "    <tr>\n",
       "      <th>6</th>\n",
       "      <td>45649838090</td>\n",
       "      <td>273667</td>\n",
       "      <td>2014-02-22</td>\n",
       "      <td>-1</td>\n",
       "      <td>-1450</td>\n",
       "      <td>152.250</td>\n",
       "      <td>-1602.250</td>\n",
       "      <td>e-Shop</td>\n",
       "      <td>1981-05-29</td>\n",
       "      <td>M</td>\n",
       "      <td>9.0</td>\n",
       "      <td>Home and kitchen</td>\n",
       "      <td>Bath</td>\n",
       "    </tr>\n",
       "    <tr>\n",
       "      <th>7</th>\n",
       "      <td>22643667930</td>\n",
       "      <td>271489</td>\n",
       "      <td>2014-02-22</td>\n",
       "      <td>-1</td>\n",
       "      <td>-1225</td>\n",
       "      <td>128.625</td>\n",
       "      <td>-1353.625</td>\n",
       "      <td>TeleShop</td>\n",
       "      <td>1971-04-21</td>\n",
       "      <td>M</td>\n",
       "      <td>9.0</td>\n",
       "      <td>Home and kitchen</td>\n",
       "      <td>Tools</td>\n",
       "    </tr>\n",
       "    <tr>\n",
       "      <th>8</th>\n",
       "      <td>79792372943</td>\n",
       "      <td>275108</td>\n",
       "      <td>2014-02-22</td>\n",
       "      <td>-3</td>\n",
       "      <td>-908</td>\n",
       "      <td>286.020</td>\n",
       "      <td>-3010.020</td>\n",
       "      <td>MBR</td>\n",
       "      <td>1971-11-04</td>\n",
       "      <td>F</td>\n",
       "      <td>8.0</td>\n",
       "      <td>Clothing</td>\n",
       "      <td>Kids</td>\n",
       "    </tr>\n",
       "    <tr>\n",
       "      <th>9</th>\n",
       "      <td>50076728598</td>\n",
       "      <td>269014</td>\n",
       "      <td>2014-02-21</td>\n",
       "      <td>-4</td>\n",
       "      <td>-581</td>\n",
       "      <td>244.020</td>\n",
       "      <td>-2568.020</td>\n",
       "      <td>e-Shop</td>\n",
       "      <td>1979-11-27</td>\n",
       "      <td>F</td>\n",
       "      <td>3.0</td>\n",
       "      <td>Electronics</td>\n",
       "      <td>Personal Appliances</td>\n",
       "    </tr>\n",
       "  </tbody>\n",
       "</table>\n",
       "</div>"
      ],
      "text/plain": [
       "  transaction_id cust_id  tran_date  Qty  Rate      Tax  total_amt Store_type  \\\n",
       "0    80712190438  270351 2014-02-28   -5  -772  405.300  -4265.300     e-Shop   \n",
       "1    29258453508  270384 2014-02-27   -5 -1497  785.925  -8270.925     e-Shop   \n",
       "2    51750724947  273420 2014-02-24   -2  -791  166.110  -1748.110   TeleShop   \n",
       "3    93274880719  271509 2014-02-24   -3 -1363  429.345  -4518.345     e-Shop   \n",
       "4    51750724947  273420 2014-02-23   -2  -791  166.110  -1748.110   TeleShop   \n",
       "5    97439039119  272357 2014-02-23   -2  -824  173.040  -1821.040   TeleShop   \n",
       "6    45649838090  273667 2014-02-22   -1 -1450  152.250  -1602.250     e-Shop   \n",
       "7    22643667930  271489 2014-02-22   -1 -1225  128.625  -1353.625   TeleShop   \n",
       "8    79792372943  275108 2014-02-22   -3  -908  286.020  -3010.020        MBR   \n",
       "9    50076728598  269014 2014-02-21   -4  -581  244.020  -2568.020     e-Shop   \n",
       "\n",
       "         DOB Gender city_code          prod_cat          prod_subcat  \n",
       "0 1981-09-26      M       5.0          Clothing                Women  \n",
       "1 1973-05-11      F       8.0       Electronics            Computers  \n",
       "2 1992-07-27      M       8.0             Books                  DIY  \n",
       "3 1981-06-08      M       3.0  Home and kitchen                 Bath  \n",
       "4 1992-07-27      M       8.0             Books                  DIY  \n",
       "5 1982-10-09      F       6.0       Electronics  Personal Appliances  \n",
       "6 1981-05-29      M       9.0  Home and kitchen                 Bath  \n",
       "7 1971-04-21      M       9.0  Home and kitchen                Tools  \n",
       "8 1971-11-04      F       8.0          Clothing                 Kids  \n",
       "9 1979-11-27      F       3.0       Electronics  Personal Appliances  "
      ]
     },
     "execution_count": 14,
     "metadata": {},
     "output_type": "execute_result"
    }
   ],
   "source": [
    "#  b. Top 10 observations\n",
    "Customer_Final.head(10)"
   ]
  },
  {
   "cell_type": "code",
   "execution_count": 15,
   "id": "094b67fe",
   "metadata": {},
   "outputs": [
    {
     "data": {
      "text/html": [
       "<div>\n",
       "<style scoped>\n",
       "    .dataframe tbody tr th:only-of-type {\n",
       "        vertical-align: middle;\n",
       "    }\n",
       "\n",
       "    .dataframe tbody tr th {\n",
       "        vertical-align: top;\n",
       "    }\n",
       "\n",
       "    .dataframe thead th {\n",
       "        text-align: right;\n",
       "    }\n",
       "</style>\n",
       "<table border=\"1\" class=\"dataframe\">\n",
       "  <thead>\n",
       "    <tr style=\"text-align: right;\">\n",
       "      <th></th>\n",
       "      <th>transaction_id</th>\n",
       "      <th>cust_id</th>\n",
       "      <th>tran_date</th>\n",
       "      <th>Qty</th>\n",
       "      <th>Rate</th>\n",
       "      <th>Tax</th>\n",
       "      <th>total_amt</th>\n",
       "      <th>Store_type</th>\n",
       "      <th>DOB</th>\n",
       "      <th>Gender</th>\n",
       "      <th>city_code</th>\n",
       "      <th>prod_cat</th>\n",
       "      <th>prod_subcat</th>\n",
       "    </tr>\n",
       "  </thead>\n",
       "  <tbody>\n",
       "    <tr>\n",
       "      <th>23043</th>\n",
       "      <td>49882891062</td>\n",
       "      <td>271982</td>\n",
       "      <td>2011-01-25</td>\n",
       "      <td>4</td>\n",
       "      <td>1330</td>\n",
       "      <td>558.600</td>\n",
       "      <td>5878.600</td>\n",
       "      <td>e-Shop</td>\n",
       "      <td>1976-08-10</td>\n",
       "      <td>M</td>\n",
       "      <td>8.0</td>\n",
       "      <td>Books</td>\n",
       "      <td>Non-Fiction</td>\n",
       "    </tr>\n",
       "    <tr>\n",
       "      <th>23044</th>\n",
       "      <td>14787475597</td>\n",
       "      <td>273982</td>\n",
       "      <td>2011-01-25</td>\n",
       "      <td>5</td>\n",
       "      <td>969</td>\n",
       "      <td>508.725</td>\n",
       "      <td>5353.725</td>\n",
       "      <td>e-Shop</td>\n",
       "      <td>1991-10-12</td>\n",
       "      <td>M</td>\n",
       "      <td>4.0</td>\n",
       "      <td>Electronics</td>\n",
       "      <td>Mobiles</td>\n",
       "    </tr>\n",
       "    <tr>\n",
       "      <th>23045</th>\n",
       "      <td>50691119572</td>\n",
       "      <td>273031</td>\n",
       "      <td>2011-01-25</td>\n",
       "      <td>1</td>\n",
       "      <td>1148</td>\n",
       "      <td>120.540</td>\n",
       "      <td>1268.540</td>\n",
       "      <td>TeleShop</td>\n",
       "      <td>1980-01-17</td>\n",
       "      <td>F</td>\n",
       "      <td>8.0</td>\n",
       "      <td>Books</td>\n",
       "      <td>DIY</td>\n",
       "    </tr>\n",
       "    <tr>\n",
       "      <th>23046</th>\n",
       "      <td>40893803228</td>\n",
       "      <td>272049</td>\n",
       "      <td>2011-01-25</td>\n",
       "      <td>3</td>\n",
       "      <td>1077</td>\n",
       "      <td>339.255</td>\n",
       "      <td>3570.255</td>\n",
       "      <td>e-Shop</td>\n",
       "      <td>1975-06-28</td>\n",
       "      <td>F</td>\n",
       "      <td>6.0</td>\n",
       "      <td>Home and kitchen</td>\n",
       "      <td>Bath</td>\n",
       "    </tr>\n",
       "    <tr>\n",
       "      <th>23047</th>\n",
       "      <td>30856003613</td>\n",
       "      <td>266866</td>\n",
       "      <td>2011-01-25</td>\n",
       "      <td>2</td>\n",
       "      <td>444</td>\n",
       "      <td>93.240</td>\n",
       "      <td>981.240</td>\n",
       "      <td>TeleShop</td>\n",
       "      <td>1974-04-18</td>\n",
       "      <td>M</td>\n",
       "      <td>4.0</td>\n",
       "      <td>Footwear</td>\n",
       "      <td>Kids</td>\n",
       "    </tr>\n",
       "    <tr>\n",
       "      <th>23048</th>\n",
       "      <td>94340757522</td>\n",
       "      <td>274550</td>\n",
       "      <td>2011-01-25</td>\n",
       "      <td>1</td>\n",
       "      <td>1264</td>\n",
       "      <td>132.720</td>\n",
       "      <td>1396.720</td>\n",
       "      <td>e-Shop</td>\n",
       "      <td>1972-02-21</td>\n",
       "      <td>M</td>\n",
       "      <td>7.0</td>\n",
       "      <td>Books</td>\n",
       "      <td>Academic</td>\n",
       "    </tr>\n",
       "    <tr>\n",
       "      <th>23049</th>\n",
       "      <td>89780862956</td>\n",
       "      <td>270022</td>\n",
       "      <td>2011-01-25</td>\n",
       "      <td>1</td>\n",
       "      <td>677</td>\n",
       "      <td>71.085</td>\n",
       "      <td>748.085</td>\n",
       "      <td>e-Shop</td>\n",
       "      <td>1984-04-27</td>\n",
       "      <td>M</td>\n",
       "      <td>9.0</td>\n",
       "      <td>Clothing</td>\n",
       "      <td>Mens</td>\n",
       "    </tr>\n",
       "    <tr>\n",
       "      <th>23050</th>\n",
       "      <td>85115299378</td>\n",
       "      <td>271020</td>\n",
       "      <td>2011-01-25</td>\n",
       "      <td>4</td>\n",
       "      <td>1052</td>\n",
       "      <td>441.840</td>\n",
       "      <td>4649.840</td>\n",
       "      <td>MBR</td>\n",
       "      <td>1976-06-20</td>\n",
       "      <td>M</td>\n",
       "      <td>8.0</td>\n",
       "      <td>Home and kitchen</td>\n",
       "      <td>Furnishing</td>\n",
       "    </tr>\n",
       "    <tr>\n",
       "      <th>23051</th>\n",
       "      <td>72870271171</td>\n",
       "      <td>270911</td>\n",
       "      <td>2011-01-25</td>\n",
       "      <td>3</td>\n",
       "      <td>1142</td>\n",
       "      <td>359.730</td>\n",
       "      <td>3785.730</td>\n",
       "      <td>TeleShop</td>\n",
       "      <td>1970-05-22</td>\n",
       "      <td>M</td>\n",
       "      <td>2.0</td>\n",
       "      <td>Books</td>\n",
       "      <td>Children</td>\n",
       "    </tr>\n",
       "    <tr>\n",
       "      <th>23052</th>\n",
       "      <td>77960931771</td>\n",
       "      <td>271961</td>\n",
       "      <td>2011-01-25</td>\n",
       "      <td>1</td>\n",
       "      <td>447</td>\n",
       "      <td>46.935</td>\n",
       "      <td>493.935</td>\n",
       "      <td>TeleShop</td>\n",
       "      <td>1982-01-15</td>\n",
       "      <td>M</td>\n",
       "      <td>1.0</td>\n",
       "      <td>Books</td>\n",
       "      <td>Children</td>\n",
       "    </tr>\n",
       "  </tbody>\n",
       "</table>\n",
       "</div>"
      ],
      "text/plain": [
       "      transaction_id cust_id  tran_date  Qty  Rate      Tax  total_amt  \\\n",
       "23043    49882891062  271982 2011-01-25    4  1330  558.600   5878.600   \n",
       "23044    14787475597  273982 2011-01-25    5   969  508.725   5353.725   \n",
       "23045    50691119572  273031 2011-01-25    1  1148  120.540   1268.540   \n",
       "23046    40893803228  272049 2011-01-25    3  1077  339.255   3570.255   \n",
       "23047    30856003613  266866 2011-01-25    2   444   93.240    981.240   \n",
       "23048    94340757522  274550 2011-01-25    1  1264  132.720   1396.720   \n",
       "23049    89780862956  270022 2011-01-25    1   677   71.085    748.085   \n",
       "23050    85115299378  271020 2011-01-25    4  1052  441.840   4649.840   \n",
       "23051    72870271171  270911 2011-01-25    3  1142  359.730   3785.730   \n",
       "23052    77960931771  271961 2011-01-25    1   447   46.935    493.935   \n",
       "\n",
       "      Store_type        DOB Gender city_code          prod_cat  prod_subcat  \n",
       "23043     e-Shop 1976-08-10      M       8.0             Books  Non-Fiction  \n",
       "23044     e-Shop 1991-10-12      M       4.0       Electronics      Mobiles  \n",
       "23045   TeleShop 1980-01-17      F       8.0             Books          DIY  \n",
       "23046     e-Shop 1975-06-28      F       6.0  Home and kitchen         Bath  \n",
       "23047   TeleShop 1974-04-18      M       4.0          Footwear         Kids  \n",
       "23048     e-Shop 1972-02-21      M       7.0             Books     Academic  \n",
       "23049     e-Shop 1984-04-27      M       9.0          Clothing         Mens  \n",
       "23050        MBR 1976-06-20      M       8.0  Home and kitchen   Furnishing  \n",
       "23051   TeleShop 1970-05-22      M       2.0             Books     Children  \n",
       "23052   TeleShop 1982-01-15      M       1.0             Books     Children  "
      ]
     },
     "execution_count": 15,
     "metadata": {},
     "output_type": "execute_result"
    }
   ],
   "source": [
    "#  b. Bottom 10 observations\n",
    "Customer_Final.tail(10)"
   ]
  },
  {
   "cell_type": "code",
   "execution_count": 16,
   "id": "41f5dc59",
   "metadata": {},
   "outputs": [
    {
     "data": {
      "text/html": [
       "<div>\n",
       "<style scoped>\n",
       "    .dataframe tbody tr th:only-of-type {\n",
       "        vertical-align: middle;\n",
       "    }\n",
       "\n",
       "    .dataframe tbody tr th {\n",
       "        vertical-align: top;\n",
       "    }\n",
       "\n",
       "    .dataframe thead th {\n",
       "        text-align: right;\n",
       "    }\n",
       "</style>\n",
       "<table border=\"1\" class=\"dataframe\">\n",
       "  <thead>\n",
       "    <tr style=\"text-align: right;\">\n",
       "      <th></th>\n",
       "      <th>count</th>\n",
       "      <th>mean</th>\n",
       "      <th>std</th>\n",
       "      <th>min</th>\n",
       "      <th>25%</th>\n",
       "      <th>50%</th>\n",
       "      <th>75%</th>\n",
       "      <th>max</th>\n",
       "    </tr>\n",
       "  </thead>\n",
       "  <tbody>\n",
       "    <tr>\n",
       "      <th>Qty</th>\n",
       "      <td>23053.0</td>\n",
       "      <td>2.432395</td>\n",
       "      <td>2.268406</td>\n",
       "      <td>-5.000</td>\n",
       "      <td>1.00</td>\n",
       "      <td>3.00</td>\n",
       "      <td>4.000</td>\n",
       "      <td>5.0</td>\n",
       "    </tr>\n",
       "    <tr>\n",
       "      <th>Rate</th>\n",
       "      <td>23053.0</td>\n",
       "      <td>636.369713</td>\n",
       "      <td>622.363498</td>\n",
       "      <td>-1499.000</td>\n",
       "      <td>312.00</td>\n",
       "      <td>710.00</td>\n",
       "      <td>1109.000</td>\n",
       "      <td>1500.0</td>\n",
       "    </tr>\n",
       "    <tr>\n",
       "      <th>Tax</th>\n",
       "      <td>23053.0</td>\n",
       "      <td>248.667192</td>\n",
       "      <td>187.177773</td>\n",
       "      <td>7.350</td>\n",
       "      <td>98.28</td>\n",
       "      <td>199.08</td>\n",
       "      <td>365.715</td>\n",
       "      <td>787.5</td>\n",
       "    </tr>\n",
       "    <tr>\n",
       "      <th>total_amt</th>\n",
       "      <td>23053.0</td>\n",
       "      <td>2107.308002</td>\n",
       "      <td>2507.561264</td>\n",
       "      <td>-8270.925</td>\n",
       "      <td>762.45</td>\n",
       "      <td>1754.74</td>\n",
       "      <td>3569.150</td>\n",
       "      <td>8287.5</td>\n",
       "    </tr>\n",
       "  </tbody>\n",
       "</table>\n",
       "</div>"
      ],
      "text/plain": [
       "             count         mean          std       min     25%      50%  \\\n",
       "Qty        23053.0     2.432395     2.268406    -5.000    1.00     3.00   \n",
       "Rate       23053.0   636.369713   622.363498 -1499.000  312.00   710.00   \n",
       "Tax        23053.0   248.667192   187.177773     7.350   98.28   199.08   \n",
       "total_amt  23053.0  2107.308002  2507.561264 -8270.925  762.45  1754.74   \n",
       "\n",
       "                75%     max  \n",
       "Qty           4.000     5.0  \n",
       "Rate       1109.000  1500.0  \n",
       "Tax         365.715   787.5  \n",
       "total_amt  3569.150  8287.5  "
      ]
     },
     "execution_count": 16,
     "metadata": {},
     "output_type": "execute_result"
    }
   ],
   "source": [
    "# c. “Five-number summary” for continuous variables (min, Q1, median, Q3 and max)\n",
    "Customer_Final.select_dtypes(['int64','float64']).describe().T"
   ]
  },
  {
   "cell_type": "code",
   "execution_count": 17,
   "id": "8ef3111a",
   "metadata": {},
   "outputs": [
    {
     "data": {
      "text/plain": [
       "Index(['transaction_id', 'cust_id', 'Store_type', 'Gender', 'city_code',\n",
       "       'prod_cat', 'prod_subcat'],\n",
       "      dtype='object')"
      ]
     },
     "execution_count": 17,
     "metadata": {},
     "output_type": "execute_result"
    }
   ],
   "source": [
    "# d. Frequency tables for all the categorical variables\n",
    "Customer_Final.select_dtypes('object').columns"
   ]
  },
  {
   "cell_type": "code",
   "execution_count": 18,
   "id": "6367fb3a",
   "metadata": {},
   "outputs": [
    {
     "data": {
      "text/plain": [
       "269449    13\n",
       "268819    13\n",
       "275252    12\n",
       "274227    12\n",
       "268663    12\n",
       "          ..\n",
       "269582     1\n",
       "268407     1\n",
       "269587     1\n",
       "272865     1\n",
       "268965     1\n",
       "Name: cust_id, Length: 5506, dtype: int64"
      ]
     },
     "execution_count": 18,
     "metadata": {},
     "output_type": "execute_result"
    }
   ],
   "source": [
    "# customerID freq table\n",
    "Customer_Final.cust_id.value_counts()"
   ]
  },
  {
   "cell_type": "code",
   "execution_count": 19,
   "id": "1c7a594b",
   "metadata": {},
   "outputs": [
    {
     "data": {
      "text/plain": [
       "426787191      4\n",
       "4170892941     4\n",
       "32263938079    4\n",
       "63687553623    3\n",
       "93438842631    3\n",
       "              ..\n",
       "46052289808    1\n",
       "26946562074    1\n",
       "40312863535    1\n",
       "34425626782    1\n",
       "31598936063    1\n",
       "Name: transaction_id, Length: 20878, dtype: int64"
      ]
     },
     "execution_count": 19,
     "metadata": {},
     "output_type": "execute_result"
    }
   ],
   "source": [
    "Customer_Final.transaction_id.value_counts()"
   ]
  },
  {
   "cell_type": "code",
   "execution_count": 20,
   "id": "2892518b",
   "metadata": {},
   "outputs": [
    {
     "data": {
      "text/plain": [
       "e-Shop            9311\n",
       "MBR               4661\n",
       "Flagship store    4577\n",
       "TeleShop          4504\n",
       "Name: Store_type, dtype: int64"
      ]
     },
     "execution_count": 20,
     "metadata": {},
     "output_type": "execute_result"
    }
   ],
   "source": [
    "Customer_Final.Store_type.value_counts()"
   ]
  },
  {
   "cell_type": "code",
   "execution_count": 21,
   "id": "03f09146",
   "metadata": {},
   "outputs": [
    {
     "data": {
      "text/plain": [
       "M    11811\n",
       "F    11233\n",
       "Name: Gender, dtype: int64"
      ]
     },
     "execution_count": 21,
     "metadata": {},
     "output_type": "execute_result"
    }
   ],
   "source": [
    "Customer_Final.Gender.value_counts()"
   ]
  },
  {
   "cell_type": "code",
   "execution_count": 22,
   "id": "d70cec5f",
   "metadata": {},
   "outputs": [
    {
     "data": {
      "text/plain": [
       "Books               6069\n",
       "Electronics         4898\n",
       "Home and kitchen    4129\n",
       "Footwear            2999\n",
       "Clothing            2960\n",
       "Bags                1998\n",
       "Name: prod_cat, dtype: int64"
      ]
     },
     "execution_count": 22,
     "metadata": {},
     "output_type": "execute_result"
    }
   ],
   "source": [
    "Customer_Final.prod_cat.value_counts()"
   ]
  },
  {
   "cell_type": "code",
   "execution_count": 23,
   "id": "ff63bc49",
   "metadata": {},
   "outputs": [
    {
     "data": {
      "text/plain": [
       "Women                  3048\n",
       "Mens                   2912\n",
       "Kids                   1997\n",
       "Tools                  1062\n",
       "Fiction                1043\n",
       "Kitchen                1037\n",
       "Children               1035\n",
       "Comics                 1031\n",
       "Mobiles                1031\n",
       "Bath                   1023\n",
       "Furnishing             1007\n",
       "Non-Fiction            1004\n",
       "DIY                     989\n",
       "Cameras                 985\n",
       "Personal Appliances     972\n",
       "Academic                967\n",
       "Computers               958\n",
       "Audio and video         952\n",
       "Name: prod_subcat, dtype: int64"
      ]
     },
     "execution_count": 23,
     "metadata": {},
     "output_type": "execute_result"
    }
   ],
   "source": [
    "Customer_Final.prod_subcat.value_counts()"
   ]
  },
  {
   "cell_type": "markdown",
   "id": "bb4b248f",
   "metadata": {},
   "source": [
    "#### 3. Generate histograms for all continuous variables and frequency bars for categorical variables."
   ]
  },
  {
   "cell_type": "markdown",
   "id": "85f2f59c",
   "metadata": {},
   "source": [
    "##### A:Frequency plot for all categorical variables."
   ]
  },
  {
   "cell_type": "code",
   "execution_count": 24,
   "id": "98bfecc8",
   "metadata": {},
   "outputs": [],
   "source": [
    "\n",
    "def fn_create_freq_plot(x):\n",
    "    plt.figure(figsize=(10,4))\n",
    "    plt.title('Frequency plot for ' + x.name )\n",
    "    x.value_counts().plot(kind='bar',edgecolor='tomato',color='steelblue')\n",
    "    plt.show()"
   ]
  },
  {
   "cell_type": "code",
   "execution_count": 25,
   "id": "7619a902",
   "metadata": {},
   "outputs": [],
   "source": [
    "cat=[ 'Store_type', 'Gender', 'city_code',\n",
    "       'prod_cat', 'prod_subcat']\n",
    "# Very High cardinality for CustomerID and TransactionID varaible,no frequency plot for these variables"
   ]
  },
  {
   "cell_type": "code",
   "execution_count": 26,
   "id": "2443c719",
   "metadata": {},
   "outputs": [
    {
     "data": {
      "image/png": "[encoded data removed]",
      "text/plain": [
       "<Figure size 720x288 with 1 Axes>"
      ]
     },
     "metadata": {
      "needs_background": "light"
     },
     "output_type": "display_data"
    },
    {
     "data": {
      "image/png": "[encoded data removed]",
      "text/plain": [
       "<Figure size 720x288 with 1 Axes>"
      ]
     },
     "metadata": {
      "needs_background": "light"
     },
     "output_type": "display_data"
    },
    {
     "data": {
      "image/png": "[encoded data removed]",
      "text/plain": [
       "<Figure size 720x288 with 1 Axes>"
      ]
     },
     "metadata": {
      "needs_background": "light"
     },
     "output_type": "display_data"
    },
    {
     "data": {
      "image/png": "[encoded data removed]",
      "text/plain": [
       "<Figure size 720x288 with 1 Axes>"
      ]
     },
     "metadata": {
      "needs_background": "light"
     },
     "output_type": "display_data"
    },
    {
     "data": {
      "image/png": "[encoded data removed]",
      "text/plain": [
       "<Figure size 720x288 with 1 Axes>"
      ]
     },
     "metadata": {
      "needs_background": "light"
     },
     "output_type": "display_data"
    }
   ],
   "source": [
    "Customer_Final.loc[:,cat].apply(lambda x:fn_create_freq_plot(x))\n",
    "plt.show()"
   ]
  },
  {
   "cell_type": "markdown",
   "id": "9f430e35",
   "metadata": {},
   "source": [
    "##### B:Histogram for all continuous variables"
   ]
  },
  {
   "cell_type": "code",
   "execution_count": 27,
   "id": "873571a9",
   "metadata": {},
   "outputs": [
    {
     "data": {
      "image/png": "[encoded data removed]",
      "text/plain": [
       "<Figure size 1080x1080 with 4 Axes>"
      ]
     },
     "metadata": {
      "needs_background": "light"
     },
     "output_type": "display_data"
    }
   ],
   "source": [
    "# Using matplotlib's hist\n",
    "Customer_Final.select_dtypes( ['float64', 'int64'] ).hist(bins=5, figsize=(15,15),edgecolor='black',grid=False)\n",
    "plt.show()"
   ]
  },
  {
   "cell_type": "code",
   "execution_count": 28,
   "id": "e2cc1031",
   "metadata": {},
   "outputs": [
    {
     "data": {
      "image/png": "[encoded data removed]",
      "text/plain": [
       "<Figure size 504x360 with 1 Axes>"
      ]
     },
     "metadata": {
      "needs_background": "light"
     },
     "output_type": "display_data"
    },
    {
     "data": {
      "image/png": "[encoded data removed]",
      "text/plain": [
       "<Figure size 504x360 with 1 Axes>"
      ]
     },
     "metadata": {
      "needs_background": "light"
     },
     "output_type": "display_data"
    },
    {
     "data": {
      "image/png": "[encoded data removed]",
      "text/plain": [
       "<Figure size 504x360 with 1 Axes>"
      ]
     },
     "metadata": {
      "needs_background": "light"
     },
     "output_type": "display_data"
    },
    {
     "data": {
      "image/png": "[encoded data removed]",
      "text/plain": [
       "<Figure size 504x360 with 1 Axes>"
      ]
     },
     "metadata": {
      "needs_background": "light"
     },
     "output_type": "display_data"
    }
   ],
   "source": [
    "# using user defined function\n",
    "def fn_create_hist( x ):\n",
    "    \n",
    "    plt.figure( figsize = (7, 5))\n",
    "    plt.title('this is the hist for ' + x.name )\n",
    "    x.plot( kind = 'hist',edgecolor='tomato',color='steelblue')\n",
    "    plt.show()\n",
    "\n",
    "Customer_Final.select_dtypes( ['float64', 'int64'] ).apply( lambda x: fn_create_hist(x) )\n",
    "plt.show()"
   ]
  },
  {
   "cell_type": "markdown",
   "id": "90095769",
   "metadata": {},
   "source": [
    "#### 4. Calculate the following information using the merged dataset :\n",
    "    a. Time period of the available transaction data\n",
    "    b. Count of transactions where the total amount of transaction was negative"
   ]
  },
  {
   "cell_type": "code",
   "execution_count": 29,
   "id": "d7ab34d4",
   "metadata": {},
   "outputs": [
    {
     "name": "stdout",
     "output_type": "stream",
     "text": [
      "Time period of the available transaction data: 1130 days\n"
     ]
    }
   ],
   "source": [
    "# a:Time period of the available transaction data\n",
    "print('Time period of the available transaction data:',(Customer_Final.tran_date.max()-Customer_Final.tran_date.min()).days,'days')"
   ]
  },
  {
   "cell_type": "code",
   "execution_count": 30,
   "id": "661a5ebe",
   "metadata": {},
   "outputs": [
    {
     "name": "stdout",
     "output_type": "stream",
     "text": [
      "Count of transactions where the total amount of transaction was negative: 117\n"
     ]
    }
   ],
   "source": [
    "# b: Count of transactions where the total amount of transaction was negative\n",
    "uniq_trans=Customer_Final.groupby('transaction_id')['total_amt'].sum()\n",
    "print('Count of transactions where the total amount of transaction was negative:',\n",
    "      uniq_trans[uniq_trans<0].count())"
   ]
  },
  {
   "cell_type": "markdown",
   "id": "2420ced3",
   "metadata": {},
   "source": [
    "#### 5. Analyze which product categories are more popular among females vs male customers."
   ]
  },
  {
   "cell_type": "code",
   "execution_count": 31,
   "id": "0ea6f449",
   "metadata": {},
   "outputs": [
    {
     "data": {
      "image/png": "[encoded data removed]",
      "text/plain": [
       "<Figure size 720x360 with 1 Axes>"
      ]
     },
     "metadata": {
      "needs_background": "light"
     },
     "output_type": "display_data"
    }
   ],
   "source": [
    "pd.crosstab(index=Customer_Final.prod_cat,columns=Customer_Final.Gender).plot(kind='bar',figsize=(10,5))\n",
    "plt.show()"
   ]
  },
  {
   "cell_type": "code",
   "execution_count": 32,
   "id": "36f9058d",
   "metadata": {},
   "outputs": [],
   "source": [
    "# Inference\n",
    "# Bag, Books, Clothing, Electronics and Home and kitchen are more popular in male compared to female.\n",
    "# Footwear is more popular in female compared to male."
   ]
  },
  {
   "cell_type": "code",
   "execution_count": 33,
   "id": "c2bb0526",
   "metadata": {},
   "outputs": [
    {
     "data": {
      "image/png": "[encoded data removed]",
      "text/plain": [
       "<Figure size 936x576 with 2 Axes>"
      ]
     },
     "metadata": {},
     "output_type": "display_data"
    }
   ],
   "source": [
    "pd.crosstab(index=Customer_Final.prod_cat,columns=Customer_Final.Gender).plot(kind='pie',\n",
    "                                                                              subplots=True,\n",
    "                                                                                 figsize=(13,8),\n",
    "                                                                                  layout=(1,2),\n",
    "                                                                                 legend=0,\n",
    "                                                                                 autopct='%.1f%%',\n",
    "                                                                                  ylabel='',\n",
    "                                                                                  title=['Female','Male'],\n",
    "                                                                                  radius=0.9\n",
    "                                                                                 )\n",
    "plt.show()"
   ]
  },
  {
   "cell_type": "markdown",
   "id": "c5f4bdbf",
   "metadata": {},
   "source": [
    "#### 6. Which City code has the maximum customers and what was the percentage of customers from that city?"
   ]
  },
  {
   "cell_type": "code",
   "execution_count": 34,
   "id": "433f5846",
   "metadata": {},
   "outputs": [],
   "source": [
    "city=pd.crosstab(Customer_Final.city_code,columns='count').sort_values(by='count',ascending=False)"
   ]
  },
  {
   "cell_type": "code",
   "execution_count": 35,
   "id": "125e6b00",
   "metadata": {},
   "outputs": [
    {
     "data": {
      "text/html": [
       "<div>\n",
       "<style scoped>\n",
       "    .dataframe tbody tr th:only-of-type {\n",
       "        vertical-align: middle;\n",
       "    }\n",
       "\n",
       "    .dataframe tbody tr th {\n",
       "        vertical-align: top;\n",
       "    }\n",
       "\n",
       "    .dataframe thead th {\n",
       "        text-align: right;\n",
       "    }\n",
       "</style>\n",
       "<table border=\"1\" class=\"dataframe\">\n",
       "  <thead>\n",
       "    <tr style=\"text-align: right;\">\n",
       "      <th>col_0</th>\n",
       "      <th>count</th>\n",
       "    </tr>\n",
       "    <tr>\n",
       "      <th>city_code</th>\n",
       "      <th></th>\n",
       "    </tr>\n",
       "  </thead>\n",
       "  <tbody>\n",
       "    <tr>\n",
       "      <th>4.0</th>\n",
       "      <td>10.509872</td>\n",
       "    </tr>\n",
       "  </tbody>\n",
       "</table>\n",
       "</div>"
      ],
      "text/plain": [
       "col_0          count\n",
       "city_code           \n",
       "4.0        10.509872"
      ]
     },
     "execution_count": 35,
     "metadata": {},
     "output_type": "execute_result"
    }
   ],
   "source": [
    "(city.divide(Customer_Final.city_code.count())*100).head(1)"
   ]
  },
  {
   "cell_type": "code",
   "execution_count": 49,
   "id": "c1e2dc46",
   "metadata": {},
   "outputs": [
    {
     "data": {
      "text/plain": [
       "4.0    0.105099\n",
       "Name: city_code, dtype: float64"
      ]
     },
     "execution_count": 49,
     "metadata": {},
     "output_type": "execute_result"
    }
   ],
   "source": [
    "Customer_Final.city_code.value_counts().head(1)/Customer_Final.city_code.count()"
   ]
  },
  {
   "cell_type": "code",
   "execution_count": 46,
   "id": "1e413f49",
   "metadata": {},
   "outputs": [
    {
     "data": {
      "text/plain": [
       "23053"
      ]
     },
     "execution_count": 46,
     "metadata": {},
     "output_type": "execute_result"
    }
   ],
   "source": [
    "Customer_Final.city_code.shape[0]"
   ]
  },
  {
   "cell_type": "markdown",
   "id": "ce431fbd",
   "metadata": {},
   "source": [
    "#### 7.Which store type sells the maximum products by value and by quantity?"
   ]
  },
  {
   "cell_type": "code",
   "execution_count": 37,
   "id": "409d80ba",
   "metadata": {},
   "outputs": [
    {
     "data": {
      "text/html": [
       "<div>\n",
       "<style scoped>\n",
       "    .dataframe tbody tr th:only-of-type {\n",
       "        vertical-align: middle;\n",
       "    }\n",
       "\n",
       "    .dataframe tbody tr th {\n",
       "        vertical-align: top;\n",
       "    }\n",
       "\n",
       "    .dataframe thead th {\n",
       "        text-align: right;\n",
       "    }\n",
       "</style>\n",
       "<table border=\"1\" class=\"dataframe\">\n",
       "  <thead>\n",
       "    <tr style=\"text-align: right;\">\n",
       "      <th></th>\n",
       "      <th>Qty</th>\n",
       "      <th>total_amt</th>\n",
       "    </tr>\n",
       "    <tr>\n",
       "      <th>Store_type</th>\n",
       "      <th></th>\n",
       "      <th></th>\n",
       "    </tr>\n",
       "  </thead>\n",
       "  <tbody>\n",
       "    <tr>\n",
       "      <th>e-Shop</th>\n",
       "      <td>22763</td>\n",
       "      <td>19824816.05</td>\n",
       "    </tr>\n",
       "  </tbody>\n",
       "</table>\n",
       "</div>"
      ],
      "text/plain": [
       "              Qty    total_amt\n",
       "Store_type                    \n",
       "e-Shop      22763  19824816.05"
      ]
     },
     "execution_count": 37,
     "metadata": {},
     "output_type": "execute_result"
    }
   ],
   "source": [
    "Customer_Final.groupby('Store_type')[['Qty','total_amt']].sum().sort_values(by=['Qty','total_amt'],ascending=False).head(1)"
   ]
  },
  {
   "cell_type": "markdown",
   "id": "db7f0faa",
   "metadata": {},
   "source": [
    "#### 8.What was the total amount earned from the \"Electronics\" and \"Clothing\" categories from Flagship Stores?"
   ]
  },
  {
   "cell_type": "code",
   "execution_count": 38,
   "id": "41d8b532",
   "metadata": {},
   "outputs": [
    {
     "data": {
      "text/plain": [
       "prod_cat\n",
       "Clothing       1194423.23\n",
       "Electronics    2215136.04\n",
       "Name: total_amt, dtype: float64"
      ]
     },
     "execution_count": 38,
     "metadata": {},
     "output_type": "execute_result"
    }
   ],
   "source": [
    "Customer_Final[(Customer_Final.prod_cat.isin(['Electronics','Clothing']))&\n",
    "               (Customer_Final.Store_type=='Flagship store')].groupby('prod_cat')['total_amt'].sum()"
   ]
  },
  {
   "cell_type": "markdown",
   "id": "f6d97e87",
   "metadata": {},
   "source": [
    "#### 9. What was the total amount earned from \"Male\" customers under the \"Electronics\" category?"
   ]
  },
  {
   "cell_type": "code",
   "execution_count": 39,
   "id": "afcafaca",
   "metadata": {},
   "outputs": [
    {
     "name": "stdout",
     "output_type": "stream",
     "text": [
      "Total amount earned from Male customers under the Electronics category:  5703109.424999999\n"
     ]
    }
   ],
   "source": [
    "print('Total amount earned from Male customers under the Electronics category: ',Customer_Final.loc[(Customer_Final.Gender=='M')&(Customer_Final.prod_cat=='Electronics'),'total_amt'].sum())"
   ]
  },
  {
   "cell_type": "markdown",
   "id": "cd2a58f2",
   "metadata": {},
   "source": [
    "#### 10.How many customers have more than 10 unique transactions, after removing all transactions which have any negative amounts?"
   ]
  },
  {
   "cell_type": "code",
   "execution_count": 40,
   "id": "1e098865",
   "metadata": {},
   "outputs": [
    {
     "name": "stdout",
     "output_type": "stream",
     "text": [
      "Customers having more than 10 unique positive transactions: 6\n"
     ]
    }
   ],
   "source": [
    "Q10=Customer_Final[~(Customer_Final.total_amt<0)].groupby('cust_id')['transaction_id'].count().sort_values(ascending=False)\n",
    "print('Customers having more than 10 unique positive transactions:',Q10[Q10>10].count())"
   ]
  },
  {
   "cell_type": "markdown",
   "id": "8b78017d",
   "metadata": {},
   "source": [
    "#### 11. For all customers aged between 25 - 35, find out:\n",
    "    a. What was the total amount spent for “Electronics” and “Books” product categories?\n",
    "    b. What was the total amount spent by these customers between 1st Jan, 2014 to 1st Mar, 2014?"
   ]
  },
  {
   "cell_type": "code",
   "execution_count": 41,
   "id": "db223013",
   "metadata": {},
   "outputs": [],
   "source": [
    "# Getting age for all customers:\n",
    "Customer_Final['Age']=round((Customer_Final.tran_date -Customer_Final.DOB).dt.days/365.25,2)"
   ]
  },
  {
   "cell_type": "code",
   "execution_count": 42,
   "id": "473bfc52",
   "metadata": {},
   "outputs": [
    {
     "data": {
      "text/plain": [
       "prod_cat\n",
       "Books          5491873.205\n",
       "Electronics    4622198.425\n",
       "Name: total_amt, dtype: float64"
      ]
     },
     "execution_count": 42,
     "metadata": {},
     "output_type": "execute_result"
    }
   ],
   "source": [
    "#a\n",
    "Customer_Final[(Customer_Final.prod_cat.isin(['Electronics','Books']))&\n",
    "              (Customer_Final.Age.between(25,35))].groupby('prod_cat')['total_amt'].sum()"
   ]
  },
  {
   "cell_type": "code",
   "execution_count": 43,
   "id": "c72595d2",
   "metadata": {},
   "outputs": [
    {
     "data": {
      "text/plain": [
       "995938.71"
      ]
     },
     "execution_count": 43,
     "metadata": {},
     "output_type": "execute_result"
    }
   ],
   "source": [
    "# b\n",
    "Customer_Final.loc[(Customer_Final.tran_date.between('2014-01-01','2014-03-01'))&\n",
    "              (Customer_Final.Age.between(25,35)),'total_amt'].sum()"
   ]
  }
 ],
 "metadata": {
  "kernelspec": {
   "display_name": "Python 3",
   "language": "python",
   "name": "python3"
  },
  "language_info": {
   "codemirror_mode": {
    "name": "ipython",
    "version": 3
   },
   "file_extension": ".py",
   "mimetype": "text/x-python",
   "name": "python",
   "nbconvert_exporter": "python",
   "pygments_lexer": "ipython3",
   "version": "3.8.8"
  }
 },
 "nbformat": 4,
 "nbformat_minor": 5
}
